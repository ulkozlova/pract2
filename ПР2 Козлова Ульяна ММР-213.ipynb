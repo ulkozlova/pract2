{
 "cells": [
  {
   "cell_type": "markdown",
   "id": "a35eeb9f-df70-4ab1-a243-2d2025888eb0",
   "metadata": {},
   "source": [
    " # Анализ датасета \"Dummy Marketing and Sales Data\"\n",
    " #### Студент: Козлова Ульяна\n",
    " #### Данные о бюджете рекламы на телевидение, инфлюенсинг, радио и SMM для прогнозирования продаж\n",
    "Датасет содержит:\n",
    "- Бюджет на рекламу на телевидении (млн.)\n",
    "- Бюджет на продвижение в социальных сетях (млн.)\n",
    "- Бюджет продвижения на радио (млн.)\n",
    "- Бюджет продвижения через инфлюенсинг, уровень инфлюенсера: Mega, Macro, Nano, Micro.\n",
    "- Продажи (млн.)"
   ]
  },
  {
   "cell_type": "code",
   "execution_count": 40,
   "id": "4dd0f4e5-1da6-4841-b9e2-79e79f8b5746",
   "metadata": {},
   "outputs": [],
   "source": [
    "import pandas as pd\n",
    "import numpy as np\n",
    "import matplotlib.pyplot as plt\n",
    "%matplotlib inline\n",
    "#import seaborn as sns\n",
    "import scipy.stats"
   ]
  },
  {
   "cell_type": "code",
   "execution_count": 167,
   "id": "fe55883a-6887-43dd-9498-5333a51799e2",
   "metadata": {},
   "outputs": [],
   "source": [
    "#Импортирование данных\n",
    "\n",
    "DF = pd.read_csv('Data.csv')"
   ]
  },
  {
   "cell_type": "markdown",
   "id": "a7d1fb5c-46a4-4c7e-8180-be7d1f412c2e",
   "metadata": {},
   "source": [
    "## 0. Подготовка датасета"
   ]
  },
  {
   "cell_type": "code",
   "execution_count": 168,
   "id": "fb6f28fd-39cc-48ca-aa1a-dc3afe667a12",
   "metadata": {},
   "outputs": [
    {
     "data": {
      "text/html": [
       "<div>\n",
       "<style scoped>\n",
       "    .dataframe tbody tr th:only-of-type {\n",
       "        vertical-align: middle;\n",
       "    }\n",
       "\n",
       "    .dataframe tbody tr th {\n",
       "        vertical-align: top;\n",
       "    }\n",
       "\n",
       "    .dataframe thead th {\n",
       "        text-align: right;\n",
       "    }\n",
       "</style>\n",
       "<table border=\"1\" class=\"dataframe\">\n",
       "  <thead>\n",
       "    <tr style=\"text-align: right;\">\n",
       "      <th></th>\n",
       "      <th>TV</th>\n",
       "      <th>Radio</th>\n",
       "      <th>Social Media</th>\n",
       "      <th>Influencer</th>\n",
       "      <th>Sales</th>\n",
       "    </tr>\n",
       "  </thead>\n",
       "  <tbody>\n",
       "    <tr>\n",
       "      <th>0</th>\n",
       "      <td>16.0</td>\n",
       "      <td>6.566231</td>\n",
       "      <td>2.907983</td>\n",
       "      <td>Mega</td>\n",
       "      <td>54.732757</td>\n",
       "    </tr>\n",
       "    <tr>\n",
       "      <th>1</th>\n",
       "      <td>13.0</td>\n",
       "      <td>9.237765</td>\n",
       "      <td>2.409567</td>\n",
       "      <td>Mega</td>\n",
       "      <td>46.677897</td>\n",
       "    </tr>\n",
       "    <tr>\n",
       "      <th>2</th>\n",
       "      <td>41.0</td>\n",
       "      <td>15.886446</td>\n",
       "      <td>2.913410</td>\n",
       "      <td>Mega</td>\n",
       "      <td>150.177829</td>\n",
       "    </tr>\n",
       "    <tr>\n",
       "      <th>3</th>\n",
       "      <td>83.0</td>\n",
       "      <td>30.020028</td>\n",
       "      <td>6.922304</td>\n",
       "      <td>Mega</td>\n",
       "      <td>298.246340</td>\n",
       "    </tr>\n",
       "    <tr>\n",
       "      <th>4</th>\n",
       "      <td>15.0</td>\n",
       "      <td>8.437408</td>\n",
       "      <td>1.405998</td>\n",
       "      <td>Micro</td>\n",
       "      <td>56.594181</td>\n",
       "    </tr>\n",
       "    <tr>\n",
       "      <th>...</th>\n",
       "      <td>...</td>\n",
       "      <td>...</td>\n",
       "      <td>...</td>\n",
       "      <td>...</td>\n",
       "      <td>...</td>\n",
       "    </tr>\n",
       "    <tr>\n",
       "      <th>4567</th>\n",
       "      <td>26.0</td>\n",
       "      <td>4.472360</td>\n",
       "      <td>0.717090</td>\n",
       "      <td>Micro</td>\n",
       "      <td>94.685866</td>\n",
       "    </tr>\n",
       "    <tr>\n",
       "      <th>4568</th>\n",
       "      <td>71.0</td>\n",
       "      <td>20.610685</td>\n",
       "      <td>6.545573</td>\n",
       "      <td>Nano</td>\n",
       "      <td>249.101915</td>\n",
       "    </tr>\n",
       "    <tr>\n",
       "      <th>4569</th>\n",
       "      <td>44.0</td>\n",
       "      <td>19.800072</td>\n",
       "      <td>5.096192</td>\n",
       "      <td>Micro</td>\n",
       "      <td>163.631457</td>\n",
       "    </tr>\n",
       "    <tr>\n",
       "      <th>4570</th>\n",
       "      <td>71.0</td>\n",
       "      <td>17.534640</td>\n",
       "      <td>1.940873</td>\n",
       "      <td>Macro</td>\n",
       "      <td>253.610411</td>\n",
       "    </tr>\n",
       "    <tr>\n",
       "      <th>4571</th>\n",
       "      <td>42.0</td>\n",
       "      <td>15.966688</td>\n",
       "      <td>5.046548</td>\n",
       "      <td>Micro</td>\n",
       "      <td>148.202414</td>\n",
       "    </tr>\n",
       "  </tbody>\n",
       "</table>\n",
       "<p>4572 rows × 5 columns</p>\n",
       "</div>"
      ],
      "text/plain": [
       "        TV      Radio  Social Media Influencer       Sales\n",
       "0     16.0   6.566231      2.907983       Mega   54.732757\n",
       "1     13.0   9.237765      2.409567       Mega   46.677897\n",
       "2     41.0  15.886446      2.913410       Mega  150.177829\n",
       "3     83.0  30.020028      6.922304       Mega  298.246340\n",
       "4     15.0   8.437408      1.405998      Micro   56.594181\n",
       "...    ...        ...           ...        ...         ...\n",
       "4567  26.0   4.472360      0.717090      Micro   94.685866\n",
       "4568  71.0  20.610685      6.545573       Nano  249.101915\n",
       "4569  44.0  19.800072      5.096192      Micro  163.631457\n",
       "4570  71.0  17.534640      1.940873      Macro  253.610411\n",
       "4571  42.0  15.966688      5.046548      Micro  148.202414\n",
       "\n",
       "[4572 rows x 5 columns]"
      ]
     },
     "execution_count": 168,
     "metadata": {},
     "output_type": "execute_result"
    }
   ],
   "source": [
    "# Выводим датасет и убеждаемся, что все импортировалось как нужно\n",
    "DF"
   ]
  },
  {
   "cell_type": "code",
   "execution_count": 169,
   "id": "d533724b-7043-42e5-8681-47798daac14d",
   "metadata": {},
   "outputs": [
    {
     "name": "stdout",
     "output_type": "stream",
     "text": [
      "<class 'pandas.core.frame.DataFrame'>\n",
      "RangeIndex: 4572 entries, 0 to 4571\n",
      "Data columns (total 5 columns):\n",
      " #   Column        Non-Null Count  Dtype  \n",
      "---  ------        --------------  -----  \n",
      " 0   TV            4562 non-null   float64\n",
      " 1   Radio         4568 non-null   float64\n",
      " 2   Social Media  4566 non-null   float64\n",
      " 3   Influencer    4572 non-null   object \n",
      " 4   Sales         4566 non-null   float64\n",
      "dtypes: float64(4), object(1)\n",
      "memory usage: 160.8+ KB\n"
     ]
    }
   ],
   "source": [
    "# Выводим свойства столбцов датасета\n",
    "DF.info()"
   ]
  },
  {
   "cell_type": "code",
   "execution_count": 170,
   "id": "2c9ff505-d287-48f9-86ad-c94a48b20104",
   "metadata": {},
   "outputs": [
    {
     "name": "stdout",
     "output_type": "stream",
     "text": [
      "<class 'pandas.core.frame.DataFrame'>\n",
      "Int64Index: 4546 entries, 0 to 4571\n",
      "Data columns (total 5 columns):\n",
      " #   Column        Non-Null Count  Dtype  \n",
      "---  ------        --------------  -----  \n",
      " 0   TV            4546 non-null   float64\n",
      " 1   Radio         4546 non-null   float64\n",
      " 2   Social Media  4546 non-null   float64\n",
      " 3   Influencer    4546 non-null   object \n",
      " 4   Sales         4546 non-null   float64\n",
      "dtypes: float64(4), object(1)\n",
      "memory usage: 195.3+ KB\n"
     ]
    }
   ],
   "source": [
    "# Избавляемся от пропущенных значений (N/A)\n",
    "DF = DF.dropna()\n",
    "DF.info()"
   ]
  },
  {
   "cell_type": "code",
   "execution_count": 171,
   "id": "80fcdcf8-a723-4faf-bbe6-27d26961b166",
   "metadata": {},
   "outputs": [
    {
     "data": {
      "text/html": [
       "<div>\n",
       "<style scoped>\n",
       "    .dataframe tbody tr th:only-of-type {\n",
       "        vertical-align: middle;\n",
       "    }\n",
       "\n",
       "    .dataframe tbody tr th {\n",
       "        vertical-align: top;\n",
       "    }\n",
       "\n",
       "    .dataframe thead th {\n",
       "        text-align: right;\n",
       "    }\n",
       "</style>\n",
       "<table border=\"1\" class=\"dataframe\">\n",
       "  <thead>\n",
       "    <tr style=\"text-align: right;\">\n",
       "      <th></th>\n",
       "      <th>TV</th>\n",
       "      <th>Radio</th>\n",
       "      <th>Social Media</th>\n",
       "      <th>Influencer</th>\n",
       "      <th>Sales</th>\n",
       "    </tr>\n",
       "  </thead>\n",
       "  <tbody>\n",
       "    <tr>\n",
       "      <th>2287</th>\n",
       "      <td>10.0</td>\n",
       "      <td>5.217559</td>\n",
       "      <td>1.075065</td>\n",
       "      <td>Nano</td>\n",
       "      <td>31.199409</td>\n",
       "    </tr>\n",
       "    <tr>\n",
       "      <th>1104</th>\n",
       "      <td>10.0</td>\n",
       "      <td>2.197709</td>\n",
       "      <td>1.486696</td>\n",
       "      <td>Mega</td>\n",
       "      <td>31.402262</td>\n",
       "    </tr>\n",
       "    <tr>\n",
       "      <th>642</th>\n",
       "      <td>10.0</td>\n",
       "      <td>2.112089</td>\n",
       "      <td>2.920709</td>\n",
       "      <td>Mega</td>\n",
       "      <td>32.237030</td>\n",
       "    </tr>\n",
       "    <tr>\n",
       "      <th>45</th>\n",
       "      <td>10.0</td>\n",
       "      <td>6.145248</td>\n",
       "      <td>1.591116</td>\n",
       "      <td>Macro</td>\n",
       "      <td>32.566825</td>\n",
       "    </tr>\n",
       "    <tr>\n",
       "      <th>4504</th>\n",
       "      <td>10.0</td>\n",
       "      <td>3.493645</td>\n",
       "      <td>0.455396</td>\n",
       "      <td>Nano</td>\n",
       "      <td>32.825508</td>\n",
       "    </tr>\n",
       "    <tr>\n",
       "      <th>...</th>\n",
       "      <td>...</td>\n",
       "      <td>...</td>\n",
       "      <td>...</td>\n",
       "      <td>...</td>\n",
       "      <td>...</td>\n",
       "    </tr>\n",
       "    <tr>\n",
       "      <th>2314</th>\n",
       "      <td>100.0</td>\n",
       "      <td>27.779895</td>\n",
       "      <td>5.280721</td>\n",
       "      <td>Mega</td>\n",
       "      <td>359.038843</td>\n",
       "    </tr>\n",
       "    <tr>\n",
       "      <th>3338</th>\n",
       "      <td>100.0</td>\n",
       "      <td>32.735142</td>\n",
       "      <td>5.361312</td>\n",
       "      <td>Mega</td>\n",
       "      <td>360.109683</td>\n",
       "    </tr>\n",
       "    <tr>\n",
       "      <th>2412</th>\n",
       "      <td>100.0</td>\n",
       "      <td>34.488205</td>\n",
       "      <td>9.187200</td>\n",
       "      <td>Mega</td>\n",
       "      <td>360.400053</td>\n",
       "    </tr>\n",
       "    <tr>\n",
       "      <th>2823</th>\n",
       "      <td>100.0</td>\n",
       "      <td>32.148208</td>\n",
       "      <td>7.565100</td>\n",
       "      <td>Micro</td>\n",
       "      <td>362.042123</td>\n",
       "    </tr>\n",
       "    <tr>\n",
       "      <th>1925</th>\n",
       "      <td>100.0</td>\n",
       "      <td>42.225232</td>\n",
       "      <td>8.977117</td>\n",
       "      <td>Mega</td>\n",
       "      <td>364.079751</td>\n",
       "    </tr>\n",
       "  </tbody>\n",
       "</table>\n",
       "<p>4546 rows × 5 columns</p>\n",
       "</div>"
      ],
      "text/plain": [
       "         TV      Radio  Social Media Influencer       Sales\n",
       "2287   10.0   5.217559      1.075065       Nano   31.199409\n",
       "1104   10.0   2.197709      1.486696       Mega   31.402262\n",
       "642    10.0   2.112089      2.920709       Mega   32.237030\n",
       "45     10.0   6.145248      1.591116      Macro   32.566825\n",
       "4504   10.0   3.493645      0.455396       Nano   32.825508\n",
       "...     ...        ...           ...        ...         ...\n",
       "2314  100.0  27.779895      5.280721       Mega  359.038843\n",
       "3338  100.0  32.735142      5.361312       Mega  360.109683\n",
       "2412  100.0  34.488205      9.187200       Mega  360.400053\n",
       "2823  100.0  32.148208      7.565100      Micro  362.042123\n",
       "1925  100.0  42.225232      8.977117       Mega  364.079751\n",
       "\n",
       "[4546 rows x 5 columns]"
      ]
     },
     "execution_count": 171,
     "metadata": {},
     "output_type": "execute_result"
    }
   ],
   "source": [
    "# Для удобства сортируем датасет по количеству продаж в порядке возрастания\n",
    "\n",
    "DF = DF.sort_values(by = ['Sales'], ascending = True)\n",
    "DF\n"
   ]
  },
  {
   "cell_type": "code",
   "execution_count": 172,
   "id": "18bad091-cf3f-42c1-bbdb-1c59243415f8",
   "metadata": {},
   "outputs": [
    {
     "data": {
      "text/plain": [
       "array(['Nano', 'Mega', 'Macro', 'Micro'], dtype=object)"
      ]
     },
     "execution_count": 172,
     "metadata": {},
     "output_type": "execute_result"
    }
   ],
   "source": [
    "# Выводим уникальные значения по столбцу Influencer и убеждаемся, что нет лишних\n",
    "\n",
    "DF['Influencer'].unique()"
   ]
  },
  {
   "cell_type": "code",
   "execution_count": 173,
   "id": "21793367-4657-479e-98e5-53fe74e99238",
   "metadata": {},
   "outputs": [
    {
     "name": "stdout",
     "output_type": "stream",
     "text": [
      "<class 'pandas.core.frame.DataFrame'>\n",
      "Int64Index: 4546 entries, 2287 to 1925\n",
      "Data columns (total 5 columns):\n",
      " #   Column        Non-Null Count  Dtype   \n",
      "---  ------        --------------  -----   \n",
      " 0   TV            4546 non-null   float64 \n",
      " 1   Radio         4546 non-null   float64 \n",
      " 2   Social Media  4546 non-null   float64 \n",
      " 3   Influencer    4546 non-null   category\n",
      " 4   Sales         4546 non-null   float64 \n",
      "dtypes: category(1), float64(4)\n",
      "memory usage: 182.1 KB\n"
     ]
    },
    {
     "data": {
      "text/plain": [
       "Mega     1152\n",
       "Micro    1148\n",
       "Nano     1134\n",
       "Macro    1112\n",
       "Name: Influencer, dtype: int64"
      ]
     },
     "execution_count": 173,
     "metadata": {},
     "output_type": "execute_result"
    }
   ],
   "source": [
    "# Переформировываем столбец Influencer в категориальную переменную\n",
    "\n",
    "DF['Influencer'] = pd.Categorical(DF['Influencer'])\n",
    "DF.info()\n",
    "DF['Influencer'].value_counts()"
   ]
  },
  {
   "cell_type": "markdown",
   "id": "00c90eab-75ee-4861-9bb5-55606ba1d74f",
   "metadata": {},
   "source": [
    "## 1. Создание переменных"
   ]
  },
  {
   "cell_type": "markdown",
   "id": "790cf78f-1a7f-49cb-b5b9-972573b91998",
   "metadata": {},
   "source": [
    "#### Cтатистические данные по датасету:"
   ]
  },
  {
   "cell_type": "code",
   "execution_count": 174,
   "id": "cea669c6-2b67-4501-946b-451f45d19f5c",
   "metadata": {},
   "outputs": [],
   "source": [
    "sales_list = DF['Sales']\n",
    "tv_list = DF['TV']\n",
    "radio_list = DF['Radio']\n",
    "smm_list = DF['Social Media']\n",
    "influencer_list = DF['Influencer']"
   ]
  },
  {
   "cell_type": "code",
   "execution_count": 175,
   "id": "b582d000-17ce-4015-b7ed-f170af29d181",
   "metadata": {},
   "outputs": [
    {
     "name": "stdout",
     "output_type": "stream",
     "text": [
      "Самое большое количество продаж, млн. - 364.0797515\n",
      "Самое маленькое количество продаж, млн. - 31.19940869\n",
      "Среднее количество продаж, млн. - 192.41333214982623\n",
      "Медианное количество продаж, млн. - 188.96367844999997\n"
     ]
    }
   ],
   "source": [
    "print('Самое большое количество продаж, млн. -', sales_list.max())\n",
    "print('Самое маленькое количество продаж, млн. -', sales_list.min())\n",
    "print('Среднее количество продаж, млн. -', sales_list.mean())\n",
    "print('Медианное количество продаж, млн. -', sales_list.median())"
   ]
  },
  {
   "cell_type": "code",
   "execution_count": 176,
   "id": "ed815c33-0ec3-4c88-8352-6a7ef40bd168",
   "metadata": {},
   "outputs": [
    {
     "name": "stdout",
     "output_type": "stream",
     "text": [
      "Самое большое количество TV-бюджета, млн. - 100.0\n",
      "Самое маленькое количество TV-бюджета, млн. - 10.0\n",
      "Среднее количество TV-бюджета, млн. - 54.06291245050594\n",
      "Медианное количество TV-бюджета, млн. - 53.0\n"
     ]
    }
   ],
   "source": [
    "print('Самое большое количество TV-бюджета, млн. -', tv_list.max())\n",
    "print('Самое маленькое количество TV-бюджета, млн. -', tv_list.min())\n",
    "print('Среднее количество TV-бюджета, млн. -', tv_list.mean())\n",
    "print('Медианное количество TV-бюджета, млн. -', tv_list.median())"
   ]
  },
  {
   "cell_type": "code",
   "execution_count": 177,
   "id": "10170d6b-6e13-47e5-9052-b4a997fbbf2d",
   "metadata": {},
   "outputs": [
    {
     "name": "stdout",
     "output_type": "stream",
     "text": [
      "Самое большое количество радио-бюджета, млн. - 48.87116125\n",
      "Самое маленькое количество радио-бюджета, млн. - 0.000683948\n",
      "Среднее количество радио-бюджета, млн. - 18.15753310233788\n",
      "Медианное количество радио-бюджета, млн. - 17.85951293\n"
     ]
    }
   ],
   "source": [
    "print('Самое большое количество радио-бюджета, млн. -', radio_list.max())\n",
    "print('Самое маленькое количество радио-бюджета, млн. -', radio_list.min())\n",
    "print('Среднее количество радио-бюджета, млн. -', radio_list.mean())\n",
    "print('Медианное количество радио-бюджета, млн. -', radio_list.median())"
   ]
  },
  {
   "cell_type": "code",
   "execution_count": 178,
   "id": "20815126-97aa-4664-9b34-1b8e04d6de2d",
   "metadata": {},
   "outputs": [
    {
     "name": "stdout",
     "output_type": "stream",
     "text": [
      "Самое большое количество SMM-бюджета, млн. - 13.98166208\n",
      "Самое маленькое количество SMM-бюджета, млн. - 3.13e-05\n",
      "Среднее количество SMM-бюджета, млн. - 3.323472855726133\n",
      "Медианное количество SMM-бюджета, млн. - 3.055565435\n"
     ]
    }
   ],
   "source": [
    "print('Самое большое количество SMM-бюджета, млн. -', smm_list.max())\n",
    "print('Самое маленькое количество SMM-бюджета, млн. -', smm_list.min())\n",
    "print('Среднее количество SMM-бюджета, млн. -', smm_list.mean())\n",
    "print('Медианное количество SMM-бюджета, млн. -', smm_list.median())"
   ]
  },
  {
   "cell_type": "markdown",
   "id": "1b9f10e0-9d43-415d-bda4-3f51d83a5b04",
   "metadata": {},
   "source": [
    "#### Создание новых столбцов:\n",
    "Столбец `Sum_Budget` означает суммарное значение потраченного бюджета.\n",
    "\n",
    "Столбец `Sum_Budget_Categorical` означает категориальное значение суммарного потраченного бюджета:\n",
    "- Small – суммарный бюджет до 30 млн.\n",
    "- Medium – суммарный бюджет от 30 до 60 млн.\n",
    "- Large – суммарный бюджет от 60 млн."
   ]
  },
  {
   "cell_type": "code",
   "execution_count": 179,
   "id": "71695af7-fb9c-450c-a687-e2fb75a7b4d3",
   "metadata": {},
   "outputs": [
    {
     "data": {
      "text/html": [
       "<div>\n",
       "<style scoped>\n",
       "    .dataframe tbody tr th:only-of-type {\n",
       "        vertical-align: middle;\n",
       "    }\n",
       "\n",
       "    .dataframe tbody tr th {\n",
       "        vertical-align: top;\n",
       "    }\n",
       "\n",
       "    .dataframe thead th {\n",
       "        text-align: right;\n",
       "    }\n",
       "</style>\n",
       "<table border=\"1\" class=\"dataframe\">\n",
       "  <thead>\n",
       "    <tr style=\"text-align: right;\">\n",
       "      <th></th>\n",
       "      <th>TV</th>\n",
       "      <th>Radio</th>\n",
       "      <th>Social Media</th>\n",
       "      <th>Influencer</th>\n",
       "      <th>Sales</th>\n",
       "      <th>Sum_Budget</th>\n",
       "    </tr>\n",
       "  </thead>\n",
       "  <tbody>\n",
       "    <tr>\n",
       "      <th>2287</th>\n",
       "      <td>10.0</td>\n",
       "      <td>5.217559</td>\n",
       "      <td>1.075065</td>\n",
       "      <td>Nano</td>\n",
       "      <td>31.199409</td>\n",
       "      <td>16.292624</td>\n",
       "    </tr>\n",
       "    <tr>\n",
       "      <th>1104</th>\n",
       "      <td>10.0</td>\n",
       "      <td>2.197709</td>\n",
       "      <td>1.486696</td>\n",
       "      <td>Mega</td>\n",
       "      <td>31.402262</td>\n",
       "      <td>13.684405</td>\n",
       "    </tr>\n",
       "    <tr>\n",
       "      <th>642</th>\n",
       "      <td>10.0</td>\n",
       "      <td>2.112089</td>\n",
       "      <td>2.920709</td>\n",
       "      <td>Mega</td>\n",
       "      <td>32.237030</td>\n",
       "      <td>15.032798</td>\n",
       "    </tr>\n",
       "    <tr>\n",
       "      <th>45</th>\n",
       "      <td>10.0</td>\n",
       "      <td>6.145248</td>\n",
       "      <td>1.591116</td>\n",
       "      <td>Macro</td>\n",
       "      <td>32.566825</td>\n",
       "      <td>17.736365</td>\n",
       "    </tr>\n",
       "    <tr>\n",
       "      <th>4504</th>\n",
       "      <td>10.0</td>\n",
       "      <td>3.493645</td>\n",
       "      <td>0.455396</td>\n",
       "      <td>Nano</td>\n",
       "      <td>32.825508</td>\n",
       "      <td>13.949041</td>\n",
       "    </tr>\n",
       "    <tr>\n",
       "      <th>...</th>\n",
       "      <td>...</td>\n",
       "      <td>...</td>\n",
       "      <td>...</td>\n",
       "      <td>...</td>\n",
       "      <td>...</td>\n",
       "      <td>...</td>\n",
       "    </tr>\n",
       "    <tr>\n",
       "      <th>2314</th>\n",
       "      <td>100.0</td>\n",
       "      <td>27.779895</td>\n",
       "      <td>5.280721</td>\n",
       "      <td>Mega</td>\n",
       "      <td>359.038843</td>\n",
       "      <td>133.060616</td>\n",
       "    </tr>\n",
       "    <tr>\n",
       "      <th>3338</th>\n",
       "      <td>100.0</td>\n",
       "      <td>32.735142</td>\n",
       "      <td>5.361312</td>\n",
       "      <td>Mega</td>\n",
       "      <td>360.109683</td>\n",
       "      <td>138.096454</td>\n",
       "    </tr>\n",
       "    <tr>\n",
       "      <th>2412</th>\n",
       "      <td>100.0</td>\n",
       "      <td>34.488205</td>\n",
       "      <td>9.187200</td>\n",
       "      <td>Mega</td>\n",
       "      <td>360.400053</td>\n",
       "      <td>143.675404</td>\n",
       "    </tr>\n",
       "    <tr>\n",
       "      <th>2823</th>\n",
       "      <td>100.0</td>\n",
       "      <td>32.148208</td>\n",
       "      <td>7.565100</td>\n",
       "      <td>Micro</td>\n",
       "      <td>362.042123</td>\n",
       "      <td>139.713307</td>\n",
       "    </tr>\n",
       "    <tr>\n",
       "      <th>1925</th>\n",
       "      <td>100.0</td>\n",
       "      <td>42.225232</td>\n",
       "      <td>8.977117</td>\n",
       "      <td>Mega</td>\n",
       "      <td>364.079751</td>\n",
       "      <td>151.202349</td>\n",
       "    </tr>\n",
       "  </tbody>\n",
       "</table>\n",
       "<p>4546 rows × 6 columns</p>\n",
       "</div>"
      ],
      "text/plain": [
       "         TV      Radio  Social Media Influencer       Sales  Sum_Budget\n",
       "2287   10.0   5.217559      1.075065       Nano   31.199409   16.292624\n",
       "1104   10.0   2.197709      1.486696       Mega   31.402262   13.684405\n",
       "642    10.0   2.112089      2.920709       Mega   32.237030   15.032798\n",
       "45     10.0   6.145248      1.591116      Macro   32.566825   17.736365\n",
       "4504   10.0   3.493645      0.455396       Nano   32.825508   13.949041\n",
       "...     ...        ...           ...        ...         ...         ...\n",
       "2314  100.0  27.779895      5.280721       Mega  359.038843  133.060616\n",
       "3338  100.0  32.735142      5.361312       Mega  360.109683  138.096454\n",
       "2412  100.0  34.488205      9.187200       Mega  360.400053  143.675404\n",
       "2823  100.0  32.148208      7.565100      Micro  362.042123  139.713307\n",
       "1925  100.0  42.225232      8.977117       Mega  364.079751  151.202349\n",
       "\n",
       "[4546 rows x 6 columns]"
      ]
     },
     "execution_count": 179,
     "metadata": {},
     "output_type": "execute_result"
    }
   ],
   "source": [
    "# Добавляем столбец Sum_Budget\n",
    "\n",
    "DF['Sum_Budget'] = DF['Radio'] + DF['TV'] + DF['Social Media']\n",
    "DF"
   ]
  },
  {
   "cell_type": "code",
   "execution_count": 180,
   "id": "85e60216-239f-4930-b738-890063ef1bc5",
   "metadata": {},
   "outputs": [
    {
     "data": {
      "text/html": [
       "<div>\n",
       "<style scoped>\n",
       "    .dataframe tbody tr th:only-of-type {\n",
       "        vertical-align: middle;\n",
       "    }\n",
       "\n",
       "    .dataframe tbody tr th {\n",
       "        vertical-align: top;\n",
       "    }\n",
       "\n",
       "    .dataframe thead th {\n",
       "        text-align: right;\n",
       "    }\n",
       "</style>\n",
       "<table border=\"1\" class=\"dataframe\">\n",
       "  <thead>\n",
       "    <tr style=\"text-align: right;\">\n",
       "      <th></th>\n",
       "      <th>TV</th>\n",
       "      <th>Radio</th>\n",
       "      <th>Social Media</th>\n",
       "      <th>Influencer</th>\n",
       "      <th>Sales</th>\n",
       "      <th>Sum_Budget</th>\n",
       "      <th>Sum_Budget_Categorical</th>\n",
       "    </tr>\n",
       "  </thead>\n",
       "  <tbody>\n",
       "    <tr>\n",
       "      <th>2287</th>\n",
       "      <td>10.0</td>\n",
       "      <td>5.217559</td>\n",
       "      <td>1.075065</td>\n",
       "      <td>Nano</td>\n",
       "      <td>31.199409</td>\n",
       "      <td>16.292624</td>\n",
       "      <td>Small</td>\n",
       "    </tr>\n",
       "    <tr>\n",
       "      <th>1104</th>\n",
       "      <td>10.0</td>\n",
       "      <td>2.197709</td>\n",
       "      <td>1.486696</td>\n",
       "      <td>Mega</td>\n",
       "      <td>31.402262</td>\n",
       "      <td>13.684405</td>\n",
       "      <td>Small</td>\n",
       "    </tr>\n",
       "    <tr>\n",
       "      <th>642</th>\n",
       "      <td>10.0</td>\n",
       "      <td>2.112089</td>\n",
       "      <td>2.920709</td>\n",
       "      <td>Mega</td>\n",
       "      <td>32.237030</td>\n",
       "      <td>15.032798</td>\n",
       "      <td>Small</td>\n",
       "    </tr>\n",
       "    <tr>\n",
       "      <th>45</th>\n",
       "      <td>10.0</td>\n",
       "      <td>6.145248</td>\n",
       "      <td>1.591116</td>\n",
       "      <td>Macro</td>\n",
       "      <td>32.566825</td>\n",
       "      <td>17.736365</td>\n",
       "      <td>Small</td>\n",
       "    </tr>\n",
       "    <tr>\n",
       "      <th>4504</th>\n",
       "      <td>10.0</td>\n",
       "      <td>3.493645</td>\n",
       "      <td>0.455396</td>\n",
       "      <td>Nano</td>\n",
       "      <td>32.825508</td>\n",
       "      <td>13.949041</td>\n",
       "      <td>Small</td>\n",
       "    </tr>\n",
       "    <tr>\n",
       "      <th>...</th>\n",
       "      <td>...</td>\n",
       "      <td>...</td>\n",
       "      <td>...</td>\n",
       "      <td>...</td>\n",
       "      <td>...</td>\n",
       "      <td>...</td>\n",
       "      <td>...</td>\n",
       "    </tr>\n",
       "    <tr>\n",
       "      <th>2314</th>\n",
       "      <td>100.0</td>\n",
       "      <td>27.779895</td>\n",
       "      <td>5.280721</td>\n",
       "      <td>Mega</td>\n",
       "      <td>359.038843</td>\n",
       "      <td>133.060616</td>\n",
       "      <td>Large</td>\n",
       "    </tr>\n",
       "    <tr>\n",
       "      <th>3338</th>\n",
       "      <td>100.0</td>\n",
       "      <td>32.735142</td>\n",
       "      <td>5.361312</td>\n",
       "      <td>Mega</td>\n",
       "      <td>360.109683</td>\n",
       "      <td>138.096454</td>\n",
       "      <td>Large</td>\n",
       "    </tr>\n",
       "    <tr>\n",
       "      <th>2412</th>\n",
       "      <td>100.0</td>\n",
       "      <td>34.488205</td>\n",
       "      <td>9.187200</td>\n",
       "      <td>Mega</td>\n",
       "      <td>360.400053</td>\n",
       "      <td>143.675404</td>\n",
       "      <td>Large</td>\n",
       "    </tr>\n",
       "    <tr>\n",
       "      <th>2823</th>\n",
       "      <td>100.0</td>\n",
       "      <td>32.148208</td>\n",
       "      <td>7.565100</td>\n",
       "      <td>Micro</td>\n",
       "      <td>362.042123</td>\n",
       "      <td>139.713307</td>\n",
       "      <td>Large</td>\n",
       "    </tr>\n",
       "    <tr>\n",
       "      <th>1925</th>\n",
       "      <td>100.0</td>\n",
       "      <td>42.225232</td>\n",
       "      <td>8.977117</td>\n",
       "      <td>Mega</td>\n",
       "      <td>364.079751</td>\n",
       "      <td>151.202349</td>\n",
       "      <td>Large</td>\n",
       "    </tr>\n",
       "  </tbody>\n",
       "</table>\n",
       "<p>4546 rows × 7 columns</p>\n",
       "</div>"
      ],
      "text/plain": [
       "         TV      Radio  Social Media Influencer       Sales  Sum_Budget  \\\n",
       "2287   10.0   5.217559      1.075065       Nano   31.199409   16.292624   \n",
       "1104   10.0   2.197709      1.486696       Mega   31.402262   13.684405   \n",
       "642    10.0   2.112089      2.920709       Mega   32.237030   15.032798   \n",
       "45     10.0   6.145248      1.591116      Macro   32.566825   17.736365   \n",
       "4504   10.0   3.493645      0.455396       Nano   32.825508   13.949041   \n",
       "...     ...        ...           ...        ...         ...         ...   \n",
       "2314  100.0  27.779895      5.280721       Mega  359.038843  133.060616   \n",
       "3338  100.0  32.735142      5.361312       Mega  360.109683  138.096454   \n",
       "2412  100.0  34.488205      9.187200       Mega  360.400053  143.675404   \n",
       "2823  100.0  32.148208      7.565100      Micro  362.042123  139.713307   \n",
       "1925  100.0  42.225232      8.977117       Mega  364.079751  151.202349   \n",
       "\n",
       "     Sum_Budget_Categorical  \n",
       "2287                  Small  \n",
       "1104                  Small  \n",
       "642                   Small  \n",
       "45                    Small  \n",
       "4504                  Small  \n",
       "...                     ...  \n",
       "2314                  Large  \n",
       "3338                  Large  \n",
       "2412                  Large  \n",
       "2823                  Large  \n",
       "1925                  Large  \n",
       "\n",
       "[4546 rows x 7 columns]"
      ]
     },
     "execution_count": 180,
     "metadata": {},
     "output_type": "execute_result"
    }
   ],
   "source": [
    "# Добавляем столбец Sum_Budget_Categorical\n",
    "\n",
    "def sum_budget_func(sum):\n",
    "    if sum < 30:\n",
    "        return 'Small'\n",
    "    elif sum >= 30 and sum < 60:\n",
    "        return 'Medium'\n",
    "    else:\n",
    "        return 'Large'\n",
    "    \n",
    "\n",
    "DF['Sum_Budget_Categorical'] = DF['Sum_Budget'].apply(sum_budget_func)\n",
    "DF['Sum_Budget_Categorical'] = pd.Categorical(DF['Sum_Budget_Categorical'])\n",
    "\n",
    "DF"
   ]
  },
  {
   "cell_type": "code",
   "execution_count": 181,
   "id": "cb1915f3-8975-491d-91bc-2c90653cb60f",
   "metadata": {},
   "outputs": [
    {
     "name": "stdout",
     "output_type": "stream",
     "text": [
      "<class 'pandas.core.frame.DataFrame'>\n",
      "Int64Index: 4546 entries, 2287 to 1925\n",
      "Data columns (total 7 columns):\n",
      " #   Column                  Non-Null Count  Dtype   \n",
      "---  ------                  --------------  -----   \n",
      " 0   TV                      4546 non-null   float64 \n",
      " 1   Radio                   4546 non-null   float64 \n",
      " 2   Social Media            4546 non-null   float64 \n",
      " 3   Influencer              4546 non-null   category\n",
      " 4   Sales                   4546 non-null   float64 \n",
      " 5   Sum_Budget              4546 non-null   float64 \n",
      " 6   Sum_Budget_Categorical  4546 non-null   category\n",
      "dtypes: category(2), float64(5)\n",
      "memory usage: 222.2 KB\n"
     ]
    }
   ],
   "source": [
    "DF.info()"
   ]
  },
  {
   "cell_type": "markdown",
   "id": "46f37fbe-5c69-4e6e-bc2b-99d9d6d7491a",
   "metadata": {},
   "source": [
    "## 2. Базовая визуализация"
   ]
  },
  {
   "cell_type": "code",
   "execution_count": 182,
   "id": "1b075901-a4ec-438c-9cba-d49ea799cf1b",
   "metadata": {},
   "outputs": [
    {
     "data": {
      "text/html": [
       "<div>\n",
       "<style scoped>\n",
       "    .dataframe tbody tr th:only-of-type {\n",
       "        vertical-align: middle;\n",
       "    }\n",
       "\n",
       "    .dataframe tbody tr th {\n",
       "        vertical-align: top;\n",
       "    }\n",
       "\n",
       "    .dataframe thead th {\n",
       "        text-align: right;\n",
       "    }\n",
       "</style>\n",
       "<table border=\"1\" class=\"dataframe\">\n",
       "  <thead>\n",
       "    <tr style=\"text-align: right;\">\n",
       "      <th></th>\n",
       "      <th>TV</th>\n",
       "      <th>Radio</th>\n",
       "      <th>Social Media</th>\n",
       "      <th>Influencer</th>\n",
       "      <th>Sales</th>\n",
       "      <th>Sum_Budget</th>\n",
       "      <th>Sum_Budget_Categorical</th>\n",
       "    </tr>\n",
       "  </thead>\n",
       "  <tbody>\n",
       "    <tr>\n",
       "      <th>2287</th>\n",
       "      <td>10.0</td>\n",
       "      <td>5.217559</td>\n",
       "      <td>1.075065</td>\n",
       "      <td>Nano</td>\n",
       "      <td>31.199409</td>\n",
       "      <td>16.292624</td>\n",
       "      <td>Small</td>\n",
       "    </tr>\n",
       "    <tr>\n",
       "      <th>1104</th>\n",
       "      <td>10.0</td>\n",
       "      <td>2.197709</td>\n",
       "      <td>1.486696</td>\n",
       "      <td>Mega</td>\n",
       "      <td>31.402262</td>\n",
       "      <td>13.684405</td>\n",
       "      <td>Small</td>\n",
       "    </tr>\n",
       "    <tr>\n",
       "      <th>642</th>\n",
       "      <td>10.0</td>\n",
       "      <td>2.112089</td>\n",
       "      <td>2.920709</td>\n",
       "      <td>Mega</td>\n",
       "      <td>32.237030</td>\n",
       "      <td>15.032798</td>\n",
       "      <td>Small</td>\n",
       "    </tr>\n",
       "    <tr>\n",
       "      <th>45</th>\n",
       "      <td>10.0</td>\n",
       "      <td>6.145248</td>\n",
       "      <td>1.591116</td>\n",
       "      <td>Macro</td>\n",
       "      <td>32.566825</td>\n",
       "      <td>17.736365</td>\n",
       "      <td>Small</td>\n",
       "    </tr>\n",
       "    <tr>\n",
       "      <th>4504</th>\n",
       "      <td>10.0</td>\n",
       "      <td>3.493645</td>\n",
       "      <td>0.455396</td>\n",
       "      <td>Nano</td>\n",
       "      <td>32.825508</td>\n",
       "      <td>13.949041</td>\n",
       "      <td>Small</td>\n",
       "    </tr>\n",
       "    <tr>\n",
       "      <th>...</th>\n",
       "      <td>...</td>\n",
       "      <td>...</td>\n",
       "      <td>...</td>\n",
       "      <td>...</td>\n",
       "      <td>...</td>\n",
       "      <td>...</td>\n",
       "      <td>...</td>\n",
       "    </tr>\n",
       "    <tr>\n",
       "      <th>2314</th>\n",
       "      <td>100.0</td>\n",
       "      <td>27.779895</td>\n",
       "      <td>5.280721</td>\n",
       "      <td>Mega</td>\n",
       "      <td>359.038843</td>\n",
       "      <td>133.060616</td>\n",
       "      <td>Large</td>\n",
       "    </tr>\n",
       "    <tr>\n",
       "      <th>3338</th>\n",
       "      <td>100.0</td>\n",
       "      <td>32.735142</td>\n",
       "      <td>5.361312</td>\n",
       "      <td>Mega</td>\n",
       "      <td>360.109683</td>\n",
       "      <td>138.096454</td>\n",
       "      <td>Large</td>\n",
       "    </tr>\n",
       "    <tr>\n",
       "      <th>2412</th>\n",
       "      <td>100.0</td>\n",
       "      <td>34.488205</td>\n",
       "      <td>9.187200</td>\n",
       "      <td>Mega</td>\n",
       "      <td>360.400053</td>\n",
       "      <td>143.675404</td>\n",
       "      <td>Large</td>\n",
       "    </tr>\n",
       "    <tr>\n",
       "      <th>2823</th>\n",
       "      <td>100.0</td>\n",
       "      <td>32.148208</td>\n",
       "      <td>7.565100</td>\n",
       "      <td>Micro</td>\n",
       "      <td>362.042123</td>\n",
       "      <td>139.713307</td>\n",
       "      <td>Large</td>\n",
       "    </tr>\n",
       "    <tr>\n",
       "      <th>1925</th>\n",
       "      <td>100.0</td>\n",
       "      <td>42.225232</td>\n",
       "      <td>8.977117</td>\n",
       "      <td>Mega</td>\n",
       "      <td>364.079751</td>\n",
       "      <td>151.202349</td>\n",
       "      <td>Large</td>\n",
       "    </tr>\n",
       "  </tbody>\n",
       "</table>\n",
       "<p>4546 rows × 7 columns</p>\n",
       "</div>"
      ],
      "text/plain": [
       "         TV      Radio  Social Media Influencer       Sales  Sum_Budget  \\\n",
       "2287   10.0   5.217559      1.075065       Nano   31.199409   16.292624   \n",
       "1104   10.0   2.197709      1.486696       Mega   31.402262   13.684405   \n",
       "642    10.0   2.112089      2.920709       Mega   32.237030   15.032798   \n",
       "45     10.0   6.145248      1.591116      Macro   32.566825   17.736365   \n",
       "4504   10.0   3.493645      0.455396       Nano   32.825508   13.949041   \n",
       "...     ...        ...           ...        ...         ...         ...   \n",
       "2314  100.0  27.779895      5.280721       Mega  359.038843  133.060616   \n",
       "3338  100.0  32.735142      5.361312       Mega  360.109683  138.096454   \n",
       "2412  100.0  34.488205      9.187200       Mega  360.400053  143.675404   \n",
       "2823  100.0  32.148208      7.565100      Micro  362.042123  139.713307   \n",
       "1925  100.0  42.225232      8.977117       Mega  364.079751  151.202349   \n",
       "\n",
       "     Sum_Budget_Categorical  \n",
       "2287                  Small  \n",
       "1104                  Small  \n",
       "642                   Small  \n",
       "45                    Small  \n",
       "4504                  Small  \n",
       "...                     ...  \n",
       "2314                  Large  \n",
       "3338                  Large  \n",
       "2412                  Large  \n",
       "2823                  Large  \n",
       "1925                  Large  \n",
       "\n",
       "[4546 rows x 7 columns]"
      ]
     },
     "execution_count": 182,
     "metadata": {},
     "output_type": "execute_result"
    }
   ],
   "source": [
    "DF"
   ]
  },
  {
   "cell_type": "markdown",
   "id": "ee8740be-a82e-428d-b4d7-20e73ce4e126",
   "metadata": {},
   "source": [
    "#### Визуализация по столбцу Influencer\n",
    "Построим распределение по типу инфлюенсера:"
   ]
  },
  {
   "cell_type": "code",
   "execution_count": 183,
   "id": "f96f2fa5-6e11-4a41-84f0-cec2f5ca038c",
   "metadata": {},
   "outputs": [
    {
     "data": {
      "text/plain": [
       "<BarContainer object of 4 artists>"
      ]
     },
     "execution_count": 183,
     "metadata": {},
     "output_type": "execute_result"
    },
    {
     "data": {
      "image/png": "[encoded data removed]",
      "text/plain": [
       "<Figure size 640x480 with 1 Axes>"
      ]
     },
     "metadata": {},
     "output_type": "display_data"
    }
   ],
   "source": [
    "influencer_list_value_cnt = influencer_list.value_counts()\n",
    "plt.bar(influencer_list_value_cnt.index, influencer_list_value_cnt, color = 'orange')"
   ]
  },
  {
   "cell_type": "markdown",
   "id": "edda30f6-e60e-48bc-a167-399488990ef2",
   "metadata": {},
   "source": [
    "Видно, что распределение примерно одинаковое."
   ]
  },
  {
   "cell_type": "markdown",
   "id": "1fcac047-e111-489e-8d1e-1addf3a459c3",
   "metadata": {},
   "source": [
    "#### Визуализация по столбцу Sum_Budget_Categorical\n",
    "Построим распределение по типу бюджета:"
   ]
  },
  {
   "cell_type": "code",
   "execution_count": 184,
   "id": "667c9561-ad77-40d2-b2b5-e40a219f827e",
   "metadata": {},
   "outputs": [
    {
     "data": {
      "text/plain": [
       "<BarContainer object of 3 artists>"
      ]
     },
     "execution_count": 184,
     "metadata": {},
     "output_type": "execute_result"
    },
    {
     "data": {
      "image/png": "[encoded data removed]",
      "text/plain": [
       "<Figure size 640x480 with 1 Axes>"
      ]
     },
     "metadata": {},
     "output_type": "display_data"
    }
   ],
   "source": [
    "sbc_list = DF['Sum_Budget_Categorical']\n",
    "sbc_list_value_cnt = sbc_list.value_counts()\n",
    "plt.bar(sbc_list_value_cnt.index, sbc_list_value_cnt, color = 'orange')"
   ]
  },
  {
   "cell_type": "markdown",
   "id": "2100e40a-3511-458d-b56b-cd71163aab57",
   "metadata": {},
   "source": [
    "Позиций с высоким бюджетом кратно больше чем позиций со средним и малым бюджетом."
   ]
  },
  {
   "cell_type": "code",
   "execution_count": 185,
   "id": "faee5401-fbbe-491f-9542-fd2e394b751f",
   "metadata": {},
   "outputs": [
    {
     "data": {
      "text/plain": [
       "<AxesSubplot:xlabel='Sum_Budget_Categorical'>"
      ]
     },
     "execution_count": 185,
     "metadata": {},
     "output_type": "execute_result"
    },
    {
     "data": {
      "image/png": "[encoded data removed]",
      "text/plain": [
       "<Figure size 640x480 with 1 Axes>"
      ]
     },
     "metadata": {},
     "output_type": "display_data"
    }
   ],
   "source": [
    "DF.groupby('Sum_Budget_Categorical')['Influencer'].value_counts().unstack().plot(kind = 'bar', stacked = True)"
   ]
  },
  {
   "cell_type": "code",
   "execution_count": 186,
   "id": "2fef68c8-2f21-4a2f-81a0-6374a71b4be1",
   "metadata": {},
   "outputs": [
    {
     "data": {
      "text/plain": [
       "<AxesSubplot:ylabel='Sum_Budget_Categorical'>"
      ]
     },
     "execution_count": 186,
     "metadata": {},
     "output_type": "execute_result"
    },
    {
     "data": {
      "image/png": "[encoded data removed]",
      "text/plain": [
       "<Figure size 640x480 with 1 Axes>"
      ]
     },
     "metadata": {},
     "output_type": "display_data"
    }
   ],
   "source": [
    "sbc_list_value_cnt.plot.pie(autopct = '%1.0f%%')"
   ]
  },
  {
   "cell_type": "markdown",
   "id": "a5393122-42df-4199-b69f-7c5fc99cf751",
   "metadata": {},
   "source": [
    "#### Визуализаия по числовым столбцам\n",
    "Построим гистограммы по соотвествующим столбцам:"
   ]
  },
  {
   "cell_type": "code",
   "execution_count": 187,
   "id": "b255a4af-43a0-42b7-9a0e-4b62b1a9a66e",
   "metadata": {},
   "outputs": [
    {
     "data": {
      "text/plain": [
       "array([[<AxesSubplot:title={'center':'TV'}>,\n",
       "        <AxesSubplot:title={'center':'Radio'}>],\n",
       "       [<AxesSubplot:title={'center':'Social Media'}>,\n",
       "        <AxesSubplot:title={'center':'Sales'}>],\n",
       "       [<AxesSubplot:title={'center':'Sum_Budget'}>, <AxesSubplot:>]],\n",
       "      dtype=object)"
      ]
     },
     "execution_count": 187,
     "metadata": {},
     "output_type": "execute_result"
    },
    {
     "data": {
      "image/png": "[encoded data removed]",
      "text/plain": [
       "<Figure size 1500x1000 with 6 Axes>"
      ]
     },
     "metadata": {},
     "output_type": "display_data"
    }
   ],
   "source": [
    "DF.hist(bins=30, figsize=(15, 10))"
   ]
  },
  {
   "cell_type": "markdown",
   "id": "0e5ab668-0d57-4f3c-afd1-5fc7579952eb",
   "metadata": {},
   "source": [
    "## 3. Меры тенденций"
   ]
  },
  {
   "cell_type": "markdown",
   "id": "8f9a34e0-e836-4a60-b0ce-5c070eedef73",
   "metadata": {},
   "source": [
    "Тип инфлюенсера по среднему количеству продаж:"
   ]
  },
  {
   "cell_type": "code",
   "execution_count": 188,
   "id": "d7738dea-4b8f-4fc9-bb7b-149c7066ebb6",
   "metadata": {},
   "outputs": [
    {
     "data": {
      "text/html": [
       "<div>\n",
       "<style scoped>\n",
       "    .dataframe tbody tr th:only-of-type {\n",
       "        vertical-align: middle;\n",
       "    }\n",
       "\n",
       "    .dataframe tbody tr th {\n",
       "        vertical-align: top;\n",
       "    }\n",
       "\n",
       "    .dataframe thead th {\n",
       "        text-align: right;\n",
       "    }\n",
       "</style>\n",
       "<table border=\"1\" class=\"dataframe\">\n",
       "  <thead>\n",
       "    <tr style=\"text-align: right;\">\n",
       "      <th></th>\n",
       "      <th>Sales</th>\n",
       "    </tr>\n",
       "    <tr>\n",
       "      <th>Influencer</th>\n",
       "      <th></th>\n",
       "    </tr>\n",
       "  </thead>\n",
       "  <tbody>\n",
       "    <tr>\n",
       "      <th>Macro</th>\n",
       "      <td>196.066150</td>\n",
       "    </tr>\n",
       "    <tr>\n",
       "      <th>Nano</th>\n",
       "      <td>191.708827</td>\n",
       "    </tr>\n",
       "    <tr>\n",
       "      <th>Micro</th>\n",
       "      <td>191.578370</td>\n",
       "    </tr>\n",
       "    <tr>\n",
       "      <th>Mega</th>\n",
       "      <td>190.412908</td>\n",
       "    </tr>\n",
       "  </tbody>\n",
       "</table>\n",
       "</div>"
      ],
      "text/plain": [
       "                 Sales\n",
       "Influencer            \n",
       "Macro       196.066150\n",
       "Nano        191.708827\n",
       "Micro       191.578370\n",
       "Mega        190.412908"
      ]
     },
     "execution_count": 188,
     "metadata": {},
     "output_type": "execute_result"
    }
   ],
   "source": [
    "influencers_df = pd.DataFrame(DF.groupby('Influencer')['Sales'].mean())\n",
    "influencers_df = influencers_df.sort_values(by='Sales', ascending = False)\n",
    "influencers_df"
   ]
  },
  {
   "cell_type": "markdown",
   "id": "97fbae0c-2eab-45c3-b45b-753f4a9e78df",
   "metadata": {},
   "source": [
    "Тип инфлюенсера по медианному количеству продаж:"
   ]
  },
  {
   "cell_type": "code",
   "execution_count": 189,
   "id": "554ea5e9-9e6a-4bd5-bbde-09847806779d",
   "metadata": {},
   "outputs": [
    {
     "data": {
      "text/html": [
       "<div>\n",
       "<style scoped>\n",
       "    .dataframe tbody tr th:only-of-type {\n",
       "        vertical-align: middle;\n",
       "    }\n",
       "\n",
       "    .dataframe tbody tr th {\n",
       "        vertical-align: top;\n",
       "    }\n",
       "\n",
       "    .dataframe thead th {\n",
       "        text-align: right;\n",
       "    }\n",
       "</style>\n",
       "<table border=\"1\" class=\"dataframe\">\n",
       "  <thead>\n",
       "    <tr style=\"text-align: right;\">\n",
       "      <th></th>\n",
       "      <th>Sales</th>\n",
       "    </tr>\n",
       "    <tr>\n",
       "      <th>Influencer</th>\n",
       "      <th></th>\n",
       "    </tr>\n",
       "  </thead>\n",
       "  <tbody>\n",
       "    <tr>\n",
       "      <th>Macro</th>\n",
       "      <td>194.459266</td>\n",
       "    </tr>\n",
       "    <tr>\n",
       "      <th>Nano</th>\n",
       "      <td>189.655438</td>\n",
       "    </tr>\n",
       "    <tr>\n",
       "      <th>Micro</th>\n",
       "      <td>187.839762</td>\n",
       "    </tr>\n",
       "    <tr>\n",
       "      <th>Mega</th>\n",
       "      <td>184.068201</td>\n",
       "    </tr>\n",
       "  </tbody>\n",
       "</table>\n",
       "</div>"
      ],
      "text/plain": [
       "                 Sales\n",
       "Influencer            \n",
       "Macro       194.459266\n",
       "Nano        189.655438\n",
       "Micro       187.839762\n",
       "Mega        184.068201"
      ]
     },
     "execution_count": 189,
     "metadata": {},
     "output_type": "execute_result"
    }
   ],
   "source": [
    "influencers_df = pd.DataFrame(DF.groupby('Influencer')['Sales'].median())\n",
    "influencers_df = influencers_df.sort_values(by='Sales', ascending = False)\n",
    "influencers_df"
   ]
  },
  {
   "cell_type": "markdown",
   "id": "0cc44690-5137-4f26-8db7-9130e7261666",
   "metadata": {},
   "source": [
    "Заметим, что при использовании Macro-инфлюенсера количество продаж намного выше. При этом выше и суммарный бюджет:"
   ]
  },
  {
   "cell_type": "code",
   "execution_count": 190,
   "id": "7937fcc6-d1dd-4749-9e8c-0e93a19ec432",
   "metadata": {},
   "outputs": [
    {
     "data": {
      "text/html": [
       "<div>\n",
       "<style scoped>\n",
       "    .dataframe tbody tr th:only-of-type {\n",
       "        vertical-align: middle;\n",
       "    }\n",
       "\n",
       "    .dataframe tbody tr th {\n",
       "        vertical-align: top;\n",
       "    }\n",
       "\n",
       "    .dataframe thead tr th {\n",
       "        text-align: left;\n",
       "    }\n",
       "\n",
       "    .dataframe thead tr:last-of-type th {\n",
       "        text-align: right;\n",
       "    }\n",
       "</style>\n",
       "<table border=\"1\" class=\"dataframe\">\n",
       "  <thead>\n",
       "    <tr>\n",
       "      <th></th>\n",
       "      <th colspan=\"2\" halign=\"left\">mean</th>\n",
       "      <th colspan=\"2\" halign=\"left\">median</th>\n",
       "    </tr>\n",
       "    <tr>\n",
       "      <th></th>\n",
       "      <th>Sales</th>\n",
       "      <th>Sum_Budget</th>\n",
       "      <th>Sales</th>\n",
       "      <th>Sum_Budget</th>\n",
       "    </tr>\n",
       "    <tr>\n",
       "      <th>Influencer</th>\n",
       "      <th></th>\n",
       "      <th></th>\n",
       "      <th></th>\n",
       "      <th></th>\n",
       "    </tr>\n",
       "  </thead>\n",
       "  <tbody>\n",
       "    <tr>\n",
       "      <th>Macro</th>\n",
       "      <td>196.066150</td>\n",
       "      <td>76.834369</td>\n",
       "      <td>194.459266</td>\n",
       "      <td>76.095317</td>\n",
       "    </tr>\n",
       "    <tr>\n",
       "      <th>Mega</th>\n",
       "      <td>190.412908</td>\n",
       "      <td>74.908667</td>\n",
       "      <td>184.068201</td>\n",
       "      <td>72.926747</td>\n",
       "    </tr>\n",
       "    <tr>\n",
       "      <th>Micro</th>\n",
       "      <td>191.578370</td>\n",
       "      <td>75.304177</td>\n",
       "      <td>187.839762</td>\n",
       "      <td>74.229258</td>\n",
       "    </tr>\n",
       "    <tr>\n",
       "      <th>Nano</th>\n",
       "      <td>191.708827</td>\n",
       "      <td>75.166538</td>\n",
       "      <td>189.655438</td>\n",
       "      <td>73.992662</td>\n",
       "    </tr>\n",
       "  </tbody>\n",
       "</table>\n",
       "</div>"
      ],
      "text/plain": [
       "                  mean                 median           \n",
       "                 Sales Sum_Budget       Sales Sum_Budget\n",
       "Influencer                                              \n",
       "Macro       196.066150  76.834369  194.459266  76.095317\n",
       "Mega        190.412908  74.908667  184.068201  72.926747\n",
       "Micro       191.578370  75.304177  187.839762  74.229258\n",
       "Nano        191.708827  75.166538  189.655438  73.992662"
      ]
     },
     "execution_count": 190,
     "metadata": {},
     "output_type": "execute_result"
    }
   ],
   "source": [
    "DF.pivot_table(index = 'Influencer',\n",
    "                    values = ['Sales', 'Sum_Budget'],\n",
    "                    aggfunc=['mean', 'median'])"
   ]
  },
  {
   "cell_type": "code",
   "execution_count": 191,
   "id": "dc374305-fc87-480a-b54b-80bdd1ad52b1",
   "metadata": {},
   "outputs": [
    {
     "data": {
      "text/plain": [
       "Influencer\n",
       "Macro    32.566825\n",
       "Mega     31.402262\n",
       "Micro    33.719607\n",
       "Nano     31.199409\n",
       "Name: Sales, dtype: float64"
      ]
     },
     "execution_count": 191,
     "metadata": {},
     "output_type": "execute_result"
    }
   ],
   "source": [
    "DF.groupby('Influencer')['Sales'].agg(lambda x: x.value_counts().index[0])"
   ]
  },
  {
   "cell_type": "markdown",
   "id": "fc655c00-2799-4305-8946-01304739c273",
   "metadata": {},
   "source": [
    "## 4. Z-оценка"
   ]
  },
  {
   "cell_type": "code",
   "execution_count": 192,
   "id": "630abbf0-da75-4c5b-a77a-139e61d2e47b",
   "metadata": {},
   "outputs": [],
   "source": [
    "# Разделим данные на три датасета по типу бюджета\n",
    "\n",
    "Low_Budget = DF[DF['Sum_Budget_Categorical'] == 'Small']\n",
    "Medium_Budget = DF[DF['Sum_Budget_Categorical'] == 'Medium']\n",
    "Large_Budget = DF[DF['Sum_Budget_Categorical'] == 'Large']"
   ]
  },
  {
   "cell_type": "code",
   "execution_count": 193,
   "id": "fcb61575-d1fa-4b42-8412-2a67c60588fd",
   "metadata": {},
   "outputs": [
    {
     "data": {
      "text/plain": [
       "<AxesSubplot:>"
      ]
     },
     "execution_count": 193,
     "metadata": {},
     "output_type": "execute_result"
    },
    {
     "data": {
      "image/png": "[encoded data removed]",
      "text/plain": [
       "<Figure size 640x480 with 1 Axes>"
      ]
     },
     "metadata": {},
     "output_type": "display_data"
    }
   ],
   "source": [
    "# Оценим нормальность распределения относительно количества продаж\n",
    "\n",
    "Low_Budget['Sales'].hist()"
   ]
  },
  {
   "cell_type": "code",
   "execution_count": 194,
   "id": "8cd2951d-6cb7-4e37-bbb5-c6049e68cfe2",
   "metadata": {},
   "outputs": [
    {
     "data": {
      "text/plain": [
       "<AxesSubplot:>"
      ]
     },
     "execution_count": 194,
     "metadata": {},
     "output_type": "execute_result"
    },
    {
     "data": {
      "image/png": "[encoded data removed]",
      "text/plain": [
       "<Figure size 640x480 with 1 Axes>"
      ]
     },
     "metadata": {},
     "output_type": "display_data"
    }
   ],
   "source": [
    "Medium_Budget['Sales'].hist()"
   ]
  },
  {
   "cell_type": "code",
   "execution_count": 195,
   "id": "1338d2f4-e8d8-4a31-93eb-c62fa3e98faf",
   "metadata": {},
   "outputs": [
    {
     "data": {
      "text/plain": [
       "<AxesSubplot:>"
      ]
     },
     "execution_count": 195,
     "metadata": {},
     "output_type": "execute_result"
    },
    {
     "data": {
      "image/png": "[encoded data removed]",
      "text/plain": [
       "<Figure size 640x480 with 1 Axes>"
      ]
     },
     "metadata": {},
     "output_type": "display_data"
    }
   ],
   "source": [
    "Large_Budget['Sales'].hist()"
   ]
  },
  {
   "cell_type": "markdown",
   "id": "94f3fb04-4ad3-4b06-83e8-d39336ce16a3",
   "metadata": {},
   "source": [
    "В случае малого и среднего бюджетов наблюдается нормальное распределение продаж, для высокого бюджета – нет."
   ]
  },
  {
   "cell_type": "code",
   "execution_count": 196,
   "id": "8050b3a5-b212-4f81-a1a4-94558202c02e",
   "metadata": {},
   "outputs": [],
   "source": [
    "Low_Budget = Low_Budget.reset_index()\n",
    "Medium_Budget = Medium_Budget.reset_index()\n",
    "Large_Budget = Large_Budget.reset_index()"
   ]
  },
  {
   "cell_type": "code",
   "execution_count": 197,
   "id": "ab19fa47-ed9f-475e-ae8f-82fc2aa4069b",
   "metadata": {},
   "outputs": [
    {
     "data": {
      "text/plain": [
       "15.04319239323084"
      ]
     },
     "execution_count": 197,
     "metadata": {},
     "output_type": "execute_result"
    }
   ],
   "source": [
    "# Рассчитываем среднеквадратичное отклонение\n",
    "\n",
    "Low_Budget['Sales'].std()"
   ]
  },
  {
   "cell_type": "code",
   "execution_count": 198,
   "id": "73822039-14b7-460b-a754-2d6c8c1208ee",
   "metadata": {},
   "outputs": [
    {
     "data": {
      "text/plain": [
       "27.020765941447817"
      ]
     },
     "execution_count": 198,
     "metadata": {},
     "output_type": "execute_result"
    }
   ],
   "source": [
    "Medium_Budget['Sales'].std()"
   ]
  },
  {
   "cell_type": "code",
   "execution_count": 199,
   "id": "2d183a5d-f7fe-4831-aa3f-c446c3af4f25",
   "metadata": {},
   "outputs": [
    {
     "data": {
      "text/plain": [
       "60.59167179033037"
      ]
     },
     "execution_count": 199,
     "metadata": {},
     "output_type": "execute_result"
    }
   ],
   "source": [
    "Large_Budget['Sales'].std()"
   ]
  },
  {
   "cell_type": "code",
   "execution_count": 200,
   "id": "725e0467-3550-488e-be22-8c149b6035b9",
   "metadata": {},
   "outputs": [],
   "source": [
    "# Добавляем z-оценку во все датафреймы\n",
    "\n",
    "Low_Budget['z-score'] = scipy.stats.zscore(Low_Budget['Sales'])\n",
    "Medium_Budget['z-score'] = scipy.stats.zscore(Medium_Budget['Sales']) \n",
    "Large_Budget['z-score'] = scipy.stats.zscore(Large_Budget['Sales'])  "
   ]
  },
  {
   "cell_type": "code",
   "execution_count": 201,
   "id": "4983d4a2-8c3f-44cf-abbb-627d2371fdfc",
   "metadata": {},
   "outputs": [
    {
     "data": {
      "text/html": [
       "<div>\n",
       "<style scoped>\n",
       "    .dataframe tbody tr th:only-of-type {\n",
       "        vertical-align: middle;\n",
       "    }\n",
       "\n",
       "    .dataframe tbody tr th {\n",
       "        vertical-align: top;\n",
       "    }\n",
       "\n",
       "    .dataframe thead th {\n",
       "        text-align: right;\n",
       "    }\n",
       "</style>\n",
       "<table border=\"1\" class=\"dataframe\">\n",
       "  <thead>\n",
       "    <tr style=\"text-align: right;\">\n",
       "      <th></th>\n",
       "      <th>TV</th>\n",
       "      <th>Radio</th>\n",
       "      <th>Social Media</th>\n",
       "      <th>Influencer</th>\n",
       "      <th>Sales</th>\n",
       "      <th>Sum_Budget</th>\n",
       "      <th>Sum_Budget_Categorical</th>\n",
       "      <th>z-score</th>\n",
       "    </tr>\n",
       "  </thead>\n",
       "  <tbody>\n",
       "    <tr>\n",
       "      <th>0</th>\n",
       "      <td>10.0</td>\n",
       "      <td>5.217559</td>\n",
       "      <td>1.075065</td>\n",
       "      <td>Nano</td>\n",
       "      <td>31.199409</td>\n",
       "      <td>16.292624</td>\n",
       "      <td>Small</td>\n",
       "      <td>-1.707312</td>\n",
       "    </tr>\n",
       "    <tr>\n",
       "      <th>1</th>\n",
       "      <td>10.0</td>\n",
       "      <td>2.197709</td>\n",
       "      <td>1.486696</td>\n",
       "      <td>Mega</td>\n",
       "      <td>31.402262</td>\n",
       "      <td>13.684405</td>\n",
       "      <td>Small</td>\n",
       "      <td>-1.693815</td>\n",
       "    </tr>\n",
       "    <tr>\n",
       "      <th>2</th>\n",
       "      <td>10.0</td>\n",
       "      <td>2.112089</td>\n",
       "      <td>2.920709</td>\n",
       "      <td>Mega</td>\n",
       "      <td>32.237030</td>\n",
       "      <td>15.032798</td>\n",
       "      <td>Small</td>\n",
       "      <td>-1.638273</td>\n",
       "    </tr>\n",
       "    <tr>\n",
       "      <th>3</th>\n",
       "      <td>10.0</td>\n",
       "      <td>6.145248</td>\n",
       "      <td>1.591116</td>\n",
       "      <td>Macro</td>\n",
       "      <td>32.566825</td>\n",
       "      <td>17.736365</td>\n",
       "      <td>Small</td>\n",
       "      <td>-1.616331</td>\n",
       "    </tr>\n",
       "    <tr>\n",
       "      <th>4</th>\n",
       "      <td>10.0</td>\n",
       "      <td>3.493645</td>\n",
       "      <td>0.455396</td>\n",
       "      <td>Nano</td>\n",
       "      <td>32.825508</td>\n",
       "      <td>13.949041</td>\n",
       "      <td>Small</td>\n",
       "      <td>-1.599119</td>\n",
       "    </tr>\n",
       "    <tr>\n",
       "      <th>...</th>\n",
       "      <td>...</td>\n",
       "      <td>...</td>\n",
       "      <td>...</td>\n",
       "      <td>...</td>\n",
       "      <td>...</td>\n",
       "      <td>...</td>\n",
       "      <td>...</td>\n",
       "      <td>...</td>\n",
       "    </tr>\n",
       "    <tr>\n",
       "      <th>2790</th>\n",
       "      <td>100.0</td>\n",
       "      <td>27.779895</td>\n",
       "      <td>5.280721</td>\n",
       "      <td>Mega</td>\n",
       "      <td>359.038843</td>\n",
       "      <td>133.060616</td>\n",
       "      <td>Large</td>\n",
       "      <td>1.746080</td>\n",
       "    </tr>\n",
       "    <tr>\n",
       "      <th>2791</th>\n",
       "      <td>100.0</td>\n",
       "      <td>32.735142</td>\n",
       "      <td>5.361312</td>\n",
       "      <td>Mega</td>\n",
       "      <td>360.109683</td>\n",
       "      <td>138.096454</td>\n",
       "      <td>Large</td>\n",
       "      <td>1.763756</td>\n",
       "    </tr>\n",
       "    <tr>\n",
       "      <th>2792</th>\n",
       "      <td>100.0</td>\n",
       "      <td>34.488205</td>\n",
       "      <td>9.187200</td>\n",
       "      <td>Mega</td>\n",
       "      <td>360.400053</td>\n",
       "      <td>143.675404</td>\n",
       "      <td>Large</td>\n",
       "      <td>1.768549</td>\n",
       "    </tr>\n",
       "    <tr>\n",
       "      <th>2793</th>\n",
       "      <td>100.0</td>\n",
       "      <td>32.148208</td>\n",
       "      <td>7.565100</td>\n",
       "      <td>Micro</td>\n",
       "      <td>362.042123</td>\n",
       "      <td>139.713307</td>\n",
       "      <td>Large</td>\n",
       "      <td>1.795654</td>\n",
       "    </tr>\n",
       "    <tr>\n",
       "      <th>2794</th>\n",
       "      <td>100.0</td>\n",
       "      <td>42.225232</td>\n",
       "      <td>8.977117</td>\n",
       "      <td>Mega</td>\n",
       "      <td>364.079751</td>\n",
       "      <td>151.202349</td>\n",
       "      <td>Large</td>\n",
       "      <td>1.829289</td>\n",
       "    </tr>\n",
       "  </tbody>\n",
       "</table>\n",
       "<p>4546 rows × 8 columns</p>\n",
       "</div>"
      ],
      "text/plain": [
       "         TV      Radio  Social Media Influencer       Sales  Sum_Budget  \\\n",
       "0      10.0   5.217559      1.075065       Nano   31.199409   16.292624   \n",
       "1      10.0   2.197709      1.486696       Mega   31.402262   13.684405   \n",
       "2      10.0   2.112089      2.920709       Mega   32.237030   15.032798   \n",
       "3      10.0   6.145248      1.591116      Macro   32.566825   17.736365   \n",
       "4      10.0   3.493645      0.455396       Nano   32.825508   13.949041   \n",
       "...     ...        ...           ...        ...         ...         ...   \n",
       "2790  100.0  27.779895      5.280721       Mega  359.038843  133.060616   \n",
       "2791  100.0  32.735142      5.361312       Mega  360.109683  138.096454   \n",
       "2792  100.0  34.488205      9.187200       Mega  360.400053  143.675404   \n",
       "2793  100.0  32.148208      7.565100      Micro  362.042123  139.713307   \n",
       "2794  100.0  42.225232      8.977117       Mega  364.079751  151.202349   \n",
       "\n",
       "     Sum_Budget_Categorical   z-score  \n",
       "0                     Small -1.707312  \n",
       "1                     Small -1.693815  \n",
       "2                     Small -1.638273  \n",
       "3                     Small -1.616331  \n",
       "4                     Small -1.599119  \n",
       "...                     ...       ...  \n",
       "2790                  Large  1.746080  \n",
       "2791                  Large  1.763756  \n",
       "2792                  Large  1.768549  \n",
       "2793                  Large  1.795654  \n",
       "2794                  Large  1.829289  \n",
       "\n",
       "[4546 rows x 8 columns]"
      ]
     },
     "execution_count": 201,
     "metadata": {},
     "output_type": "execute_result"
    }
   ],
   "source": [
    "# Объединяем в один новый датафрейм\n",
    "\n",
    "\n",
    "DF_z_score = pd.concat([Low_Budget, Medium_Budget, Large_Budget])\n",
    "DF_z_score = DF_z_score.drop(columns = ['index'], axis = 1)\n",
    "DF_z_score"
   ]
  },
  {
   "cell_type": "code",
   "execution_count": 202,
   "id": "cabde7b4-d45d-45a0-9b9e-eed775d4352e",
   "metadata": {},
   "outputs": [
    {
     "data": {
      "text/plain": [
       "<AxesSubplot:>"
      ]
     },
     "execution_count": 202,
     "metadata": {},
     "output_type": "execute_result"
    },
    {
     "data": {
      "image/png": "[encoded data removed]",
      "text/plain": [
       "<Figure size 640x480 with 1 Axes>"
      ]
     },
     "metadata": {},
     "output_type": "display_data"
    }
   ],
   "source": [
    "DF_z_score['z-score'].hist()\n"
   ]
  },
  {
   "cell_type": "markdown",
   "id": "20e99d0a-8b6c-4341-a019-f10d07117a56",
   "metadata": {},
   "source": [
    "Только у 27 позиций количество продаж ниже, чем 2 стандартных отклонения. У них аномально низкое количество продаж."
   ]
  },
  {
   "cell_type": "code",
   "execution_count": 203,
   "id": "73c151f9-77c7-427a-9a1f-c25673a24b8d",
   "metadata": {},
   "outputs": [
    {
     "data": {
      "text/plain": [
       "TV                        27\n",
       "Radio                     27\n",
       "Social Media              27\n",
       "Influencer                27\n",
       "Sales                     27\n",
       "Sum_Budget                27\n",
       "Sum_Budget_Categorical    27\n",
       "z-score                   27\n",
       "dtype: int64"
      ]
     },
     "execution_count": 203,
     "metadata": {},
     "output_type": "execute_result"
    }
   ],
   "source": [
    "DF_z_score[DF_z_score['z-score'] < DF_z_score['z-score'].std() * -2].count()"
   ]
  },
  {
   "cell_type": "markdown",
   "id": "87f807b8-1e8e-485e-aba5-bfd0775f0bab",
   "metadata": {},
   "source": [
    "Только у 29 позиций количество продаж выше, чем 2 стандартных отклонения. У них аномально высокое количество продаж."
   ]
  },
  {
   "cell_type": "code",
   "execution_count": 204,
   "id": "2962bd8e-976e-4732-a986-15e802541b0b",
   "metadata": {},
   "outputs": [
    {
     "data": {
      "text/plain": [
       "TV                        29\n",
       "Radio                     29\n",
       "Social Media              29\n",
       "Influencer                29\n",
       "Sales                     29\n",
       "Sum_Budget                29\n",
       "Sum_Budget_Categorical    29\n",
       "z-score                   29\n",
       "dtype: int64"
      ]
     },
     "execution_count": 204,
     "metadata": {},
     "output_type": "execute_result"
    }
   ],
   "source": [
    "DF_z_score[DF_z_score['z-score'] > DF_z_score['z-score'].std() * 2].count()"
   ]
  },
  {
   "cell_type": "code",
   "execution_count": 205,
   "id": "2d114b3e-baea-4fe3-a5c1-1dd52095e79c",
   "metadata": {},
   "outputs": [
    {
     "data": {
      "text/plain": [
       "Influencer\n",
       "Macro    0.039945\n",
       "Mega    -0.055149\n",
       "Micro    0.006571\n",
       "Nano     0.010202\n",
       "Name: z-score, dtype: float64"
      ]
     },
     "execution_count": 205,
     "metadata": {},
     "output_type": "execute_result"
    }
   ],
   "source": [
    "DF_z_score.groupby('Influencer')['z-score'].mean()"
   ]
  },
  {
   "cell_type": "markdown",
   "id": "37e1e88e-e37d-4f1a-b5d4-fda178fb3c43",
   "metadata": {},
   "source": [
    "Вывод: у реклама у мега-инфлюенсеров значительно ниже средней, а у макро значительно выше."
   ]
  },
  {
   "cell_type": "markdown",
   "id": "4693f20c-6c8c-4f01-bae3-e68f204f202f",
   "metadata": {},
   "source": [
    "## 4. Корреляция"
   ]
  },
  {
   "cell_type": "code",
   "execution_count": 206,
   "id": "7b02a05c-2c69-4416-86e5-8a2b0a649471",
   "metadata": {},
   "outputs": [
    {
     "data": {
      "text/html": [
       "<div>\n",
       "<style scoped>\n",
       "    .dataframe tbody tr th:only-of-type {\n",
       "        vertical-align: middle;\n",
       "    }\n",
       "\n",
       "    .dataframe tbody tr th {\n",
       "        vertical-align: top;\n",
       "    }\n",
       "\n",
       "    .dataframe thead th {\n",
       "        text-align: right;\n",
       "    }\n",
       "</style>\n",
       "<table border=\"1\" class=\"dataframe\">\n",
       "  <thead>\n",
       "    <tr style=\"text-align: right;\">\n",
       "      <th></th>\n",
       "      <th>TV</th>\n",
       "      <th>Radio</th>\n",
       "      <th>Social Media</th>\n",
       "      <th>Influencer</th>\n",
       "      <th>Sales</th>\n",
       "      <th>Sum_Budget</th>\n",
       "      <th>Sum_Budget_Categorical</th>\n",
       "    </tr>\n",
       "  </thead>\n",
       "  <tbody>\n",
       "    <tr>\n",
       "      <th>2287</th>\n",
       "      <td>10.0</td>\n",
       "      <td>5.217559</td>\n",
       "      <td>1.075065</td>\n",
       "      <td>Nano</td>\n",
       "      <td>31.199409</td>\n",
       "      <td>16.292624</td>\n",
       "      <td>Small</td>\n",
       "    </tr>\n",
       "    <tr>\n",
       "      <th>1104</th>\n",
       "      <td>10.0</td>\n",
       "      <td>2.197709</td>\n",
       "      <td>1.486696</td>\n",
       "      <td>Mega</td>\n",
       "      <td>31.402262</td>\n",
       "      <td>13.684405</td>\n",
       "      <td>Small</td>\n",
       "    </tr>\n",
       "    <tr>\n",
       "      <th>642</th>\n",
       "      <td>10.0</td>\n",
       "      <td>2.112089</td>\n",
       "      <td>2.920709</td>\n",
       "      <td>Mega</td>\n",
       "      <td>32.237030</td>\n",
       "      <td>15.032798</td>\n",
       "      <td>Small</td>\n",
       "    </tr>\n",
       "    <tr>\n",
       "      <th>45</th>\n",
       "      <td>10.0</td>\n",
       "      <td>6.145248</td>\n",
       "      <td>1.591116</td>\n",
       "      <td>Macro</td>\n",
       "      <td>32.566825</td>\n",
       "      <td>17.736365</td>\n",
       "      <td>Small</td>\n",
       "    </tr>\n",
       "    <tr>\n",
       "      <th>4504</th>\n",
       "      <td>10.0</td>\n",
       "      <td>3.493645</td>\n",
       "      <td>0.455396</td>\n",
       "      <td>Nano</td>\n",
       "      <td>32.825508</td>\n",
       "      <td>13.949041</td>\n",
       "      <td>Small</td>\n",
       "    </tr>\n",
       "    <tr>\n",
       "      <th>...</th>\n",
       "      <td>...</td>\n",
       "      <td>...</td>\n",
       "      <td>...</td>\n",
       "      <td>...</td>\n",
       "      <td>...</td>\n",
       "      <td>...</td>\n",
       "      <td>...</td>\n",
       "    </tr>\n",
       "    <tr>\n",
       "      <th>2314</th>\n",
       "      <td>100.0</td>\n",
       "      <td>27.779895</td>\n",
       "      <td>5.280721</td>\n",
       "      <td>Mega</td>\n",
       "      <td>359.038843</td>\n",
       "      <td>133.060616</td>\n",
       "      <td>Large</td>\n",
       "    </tr>\n",
       "    <tr>\n",
       "      <th>3338</th>\n",
       "      <td>100.0</td>\n",
       "      <td>32.735142</td>\n",
       "      <td>5.361312</td>\n",
       "      <td>Mega</td>\n",
       "      <td>360.109683</td>\n",
       "      <td>138.096454</td>\n",
       "      <td>Large</td>\n",
       "    </tr>\n",
       "    <tr>\n",
       "      <th>2412</th>\n",
       "      <td>100.0</td>\n",
       "      <td>34.488205</td>\n",
       "      <td>9.187200</td>\n",
       "      <td>Mega</td>\n",
       "      <td>360.400053</td>\n",
       "      <td>143.675404</td>\n",
       "      <td>Large</td>\n",
       "    </tr>\n",
       "    <tr>\n",
       "      <th>2823</th>\n",
       "      <td>100.0</td>\n",
       "      <td>32.148208</td>\n",
       "      <td>7.565100</td>\n",
       "      <td>Micro</td>\n",
       "      <td>362.042123</td>\n",
       "      <td>139.713307</td>\n",
       "      <td>Large</td>\n",
       "    </tr>\n",
       "    <tr>\n",
       "      <th>1925</th>\n",
       "      <td>100.0</td>\n",
       "      <td>42.225232</td>\n",
       "      <td>8.977117</td>\n",
       "      <td>Mega</td>\n",
       "      <td>364.079751</td>\n",
       "      <td>151.202349</td>\n",
       "      <td>Large</td>\n",
       "    </tr>\n",
       "  </tbody>\n",
       "</table>\n",
       "<p>4546 rows × 7 columns</p>\n",
       "</div>"
      ],
      "text/plain": [
       "         TV      Radio  Social Media Influencer       Sales  Sum_Budget  \\\n",
       "2287   10.0   5.217559      1.075065       Nano   31.199409   16.292624   \n",
       "1104   10.0   2.197709      1.486696       Mega   31.402262   13.684405   \n",
       "642    10.0   2.112089      2.920709       Mega   32.237030   15.032798   \n",
       "45     10.0   6.145248      1.591116      Macro   32.566825   17.736365   \n",
       "4504   10.0   3.493645      0.455396       Nano   32.825508   13.949041   \n",
       "...     ...        ...           ...        ...         ...         ...   \n",
       "2314  100.0  27.779895      5.280721       Mega  359.038843  133.060616   \n",
       "3338  100.0  32.735142      5.361312       Mega  360.109683  138.096454   \n",
       "2412  100.0  34.488205      9.187200       Mega  360.400053  143.675404   \n",
       "2823  100.0  32.148208      7.565100      Micro  362.042123  139.713307   \n",
       "1925  100.0  42.225232      8.977117       Mega  364.079751  151.202349   \n",
       "\n",
       "     Sum_Budget_Categorical  \n",
       "2287                  Small  \n",
       "1104                  Small  \n",
       "642                   Small  \n",
       "45                    Small  \n",
       "4504                  Small  \n",
       "...                     ...  \n",
       "2314                  Large  \n",
       "3338                  Large  \n",
       "2412                  Large  \n",
       "2823                  Large  \n",
       "1925                  Large  \n",
       "\n",
       "[4546 rows x 7 columns]"
      ]
     },
     "execution_count": 206,
     "metadata": {},
     "output_type": "execute_result"
    }
   ],
   "source": [
    "DF"
   ]
  },
  {
   "cell_type": "code",
   "execution_count": 207,
   "id": "2710fa0c-2010-468b-857f-050956a79c68",
   "metadata": {},
   "outputs": [
    {
     "data": {
      "text/html": [
       "<div>\n",
       "<style scoped>\n",
       "    .dataframe tbody tr th:only-of-type {\n",
       "        vertical-align: middle;\n",
       "    }\n",
       "\n",
       "    .dataframe tbody tr th {\n",
       "        vertical-align: top;\n",
       "    }\n",
       "\n",
       "    .dataframe thead th {\n",
       "        text-align: right;\n",
       "    }\n",
       "</style>\n",
       "<table border=\"1\" class=\"dataframe\">\n",
       "  <thead>\n",
       "    <tr style=\"text-align: right;\">\n",
       "      <th></th>\n",
       "      <th>TV</th>\n",
       "      <th>Radio</th>\n",
       "      <th>Social Media</th>\n",
       "      <th>Sum_Budget</th>\n",
       "      <th>Sales</th>\n",
       "    </tr>\n",
       "  </thead>\n",
       "  <tbody>\n",
       "    <tr>\n",
       "      <th>2287</th>\n",
       "      <td>10.0</td>\n",
       "      <td>5.217559</td>\n",
       "      <td>1.075065</td>\n",
       "      <td>16.292624</td>\n",
       "      <td>31.199409</td>\n",
       "    </tr>\n",
       "    <tr>\n",
       "      <th>1104</th>\n",
       "      <td>10.0</td>\n",
       "      <td>2.197709</td>\n",
       "      <td>1.486696</td>\n",
       "      <td>13.684405</td>\n",
       "      <td>31.402262</td>\n",
       "    </tr>\n",
       "    <tr>\n",
       "      <th>642</th>\n",
       "      <td>10.0</td>\n",
       "      <td>2.112089</td>\n",
       "      <td>2.920709</td>\n",
       "      <td>15.032798</td>\n",
       "      <td>32.237030</td>\n",
       "    </tr>\n",
       "    <tr>\n",
       "      <th>45</th>\n",
       "      <td>10.0</td>\n",
       "      <td>6.145248</td>\n",
       "      <td>1.591116</td>\n",
       "      <td>17.736365</td>\n",
       "      <td>32.566825</td>\n",
       "    </tr>\n",
       "    <tr>\n",
       "      <th>4504</th>\n",
       "      <td>10.0</td>\n",
       "      <td>3.493645</td>\n",
       "      <td>0.455396</td>\n",
       "      <td>13.949041</td>\n",
       "      <td>32.825508</td>\n",
       "    </tr>\n",
       "    <tr>\n",
       "      <th>...</th>\n",
       "      <td>...</td>\n",
       "      <td>...</td>\n",
       "      <td>...</td>\n",
       "      <td>...</td>\n",
       "      <td>...</td>\n",
       "    </tr>\n",
       "    <tr>\n",
       "      <th>2314</th>\n",
       "      <td>100.0</td>\n",
       "      <td>27.779895</td>\n",
       "      <td>5.280721</td>\n",
       "      <td>133.060616</td>\n",
       "      <td>359.038843</td>\n",
       "    </tr>\n",
       "    <tr>\n",
       "      <th>3338</th>\n",
       "      <td>100.0</td>\n",
       "      <td>32.735142</td>\n",
       "      <td>5.361312</td>\n",
       "      <td>138.096454</td>\n",
       "      <td>360.109683</td>\n",
       "    </tr>\n",
       "    <tr>\n",
       "      <th>2412</th>\n",
       "      <td>100.0</td>\n",
       "      <td>34.488205</td>\n",
       "      <td>9.187200</td>\n",
       "      <td>143.675404</td>\n",
       "      <td>360.400053</td>\n",
       "    </tr>\n",
       "    <tr>\n",
       "      <th>2823</th>\n",
       "      <td>100.0</td>\n",
       "      <td>32.148208</td>\n",
       "      <td>7.565100</td>\n",
       "      <td>139.713307</td>\n",
       "      <td>362.042123</td>\n",
       "    </tr>\n",
       "    <tr>\n",
       "      <th>1925</th>\n",
       "      <td>100.0</td>\n",
       "      <td>42.225232</td>\n",
       "      <td>8.977117</td>\n",
       "      <td>151.202349</td>\n",
       "      <td>364.079751</td>\n",
       "    </tr>\n",
       "  </tbody>\n",
       "</table>\n",
       "<p>4546 rows × 5 columns</p>\n",
       "</div>"
      ],
      "text/plain": [
       "         TV      Radio  Social Media  Sum_Budget       Sales\n",
       "2287   10.0   5.217559      1.075065   16.292624   31.199409\n",
       "1104   10.0   2.197709      1.486696   13.684405   31.402262\n",
       "642    10.0   2.112089      2.920709   15.032798   32.237030\n",
       "45     10.0   6.145248      1.591116   17.736365   32.566825\n",
       "4504   10.0   3.493645      0.455396   13.949041   32.825508\n",
       "...     ...        ...           ...         ...         ...\n",
       "2314  100.0  27.779895      5.280721  133.060616  359.038843\n",
       "3338  100.0  32.735142      5.361312  138.096454  360.109683\n",
       "2412  100.0  34.488205      9.187200  143.675404  360.400053\n",
       "2823  100.0  32.148208      7.565100  139.713307  362.042123\n",
       "1925  100.0  42.225232      8.977117  151.202349  364.079751\n",
       "\n",
       "[4546 rows x 5 columns]"
      ]
     },
     "execution_count": 207,
     "metadata": {},
     "output_type": "execute_result"
    }
   ],
   "source": [
    "# Создаем датафрейм под оценку корреляции\n",
    "\n",
    "DF_corr = DF[['TV', 'Radio', 'Social Media', 'Sum_Budget', 'Sales']]\n",
    "DF_corr"
   ]
  },
  {
   "cell_type": "code",
   "execution_count": 208,
   "id": "39f5d5c6-ec6b-47c3-9e86-1a0344d63cc9",
   "metadata": {},
   "outputs": [
    {
     "data": {
      "text/html": [
       "<div>\n",
       "<style scoped>\n",
       "    .dataframe tbody tr th:only-of-type {\n",
       "        vertical-align: middle;\n",
       "    }\n",
       "\n",
       "    .dataframe tbody tr th {\n",
       "        vertical-align: top;\n",
       "    }\n",
       "\n",
       "    .dataframe thead th {\n",
       "        text-align: right;\n",
       "    }\n",
       "</style>\n",
       "<table border=\"1\" class=\"dataframe\">\n",
       "  <thead>\n",
       "    <tr style=\"text-align: right;\">\n",
       "      <th></th>\n",
       "      <th>index</th>\n",
       "      <th>TV</th>\n",
       "      <th>Radio</th>\n",
       "      <th>Social Media</th>\n",
       "      <th>Sum_Budget</th>\n",
       "      <th>Sales</th>\n",
       "    </tr>\n",
       "  </thead>\n",
       "  <tbody>\n",
       "    <tr>\n",
       "      <th>0</th>\n",
       "      <td>2287</td>\n",
       "      <td>10.0</td>\n",
       "      <td>5.217559</td>\n",
       "      <td>1.075065</td>\n",
       "      <td>16.292624</td>\n",
       "      <td>31.199409</td>\n",
       "    </tr>\n",
       "    <tr>\n",
       "      <th>1</th>\n",
       "      <td>1104</td>\n",
       "      <td>10.0</td>\n",
       "      <td>2.197709</td>\n",
       "      <td>1.486696</td>\n",
       "      <td>13.684405</td>\n",
       "      <td>31.402262</td>\n",
       "    </tr>\n",
       "    <tr>\n",
       "      <th>2</th>\n",
       "      <td>642</td>\n",
       "      <td>10.0</td>\n",
       "      <td>2.112089</td>\n",
       "      <td>2.920709</td>\n",
       "      <td>15.032798</td>\n",
       "      <td>32.237030</td>\n",
       "    </tr>\n",
       "    <tr>\n",
       "      <th>3</th>\n",
       "      <td>45</td>\n",
       "      <td>10.0</td>\n",
       "      <td>6.145248</td>\n",
       "      <td>1.591116</td>\n",
       "      <td>17.736365</td>\n",
       "      <td>32.566825</td>\n",
       "    </tr>\n",
       "    <tr>\n",
       "      <th>4</th>\n",
       "      <td>4504</td>\n",
       "      <td>10.0</td>\n",
       "      <td>3.493645</td>\n",
       "      <td>0.455396</td>\n",
       "      <td>13.949041</td>\n",
       "      <td>32.825508</td>\n",
       "    </tr>\n",
       "    <tr>\n",
       "      <th>...</th>\n",
       "      <td>...</td>\n",
       "      <td>...</td>\n",
       "      <td>...</td>\n",
       "      <td>...</td>\n",
       "      <td>...</td>\n",
       "      <td>...</td>\n",
       "    </tr>\n",
       "    <tr>\n",
       "      <th>4541</th>\n",
       "      <td>2314</td>\n",
       "      <td>100.0</td>\n",
       "      <td>27.779895</td>\n",
       "      <td>5.280721</td>\n",
       "      <td>133.060616</td>\n",
       "      <td>359.038843</td>\n",
       "    </tr>\n",
       "    <tr>\n",
       "      <th>4542</th>\n",
       "      <td>3338</td>\n",
       "      <td>100.0</td>\n",
       "      <td>32.735142</td>\n",
       "      <td>5.361312</td>\n",
       "      <td>138.096454</td>\n",
       "      <td>360.109683</td>\n",
       "    </tr>\n",
       "    <tr>\n",
       "      <th>4543</th>\n",
       "      <td>2412</td>\n",
       "      <td>100.0</td>\n",
       "      <td>34.488205</td>\n",
       "      <td>9.187200</td>\n",
       "      <td>143.675404</td>\n",
       "      <td>360.400053</td>\n",
       "    </tr>\n",
       "    <tr>\n",
       "      <th>4544</th>\n",
       "      <td>2823</td>\n",
       "      <td>100.0</td>\n",
       "      <td>32.148208</td>\n",
       "      <td>7.565100</td>\n",
       "      <td>139.713307</td>\n",
       "      <td>362.042123</td>\n",
       "    </tr>\n",
       "    <tr>\n",
       "      <th>4545</th>\n",
       "      <td>1925</td>\n",
       "      <td>100.0</td>\n",
       "      <td>42.225232</td>\n",
       "      <td>8.977117</td>\n",
       "      <td>151.202349</td>\n",
       "      <td>364.079751</td>\n",
       "    </tr>\n",
       "  </tbody>\n",
       "</table>\n",
       "<p>4546 rows × 6 columns</p>\n",
       "</div>"
      ],
      "text/plain": [
       "      index     TV      Radio  Social Media  Sum_Budget       Sales\n",
       "0      2287   10.0   5.217559      1.075065   16.292624   31.199409\n",
       "1      1104   10.0   2.197709      1.486696   13.684405   31.402262\n",
       "2       642   10.0   2.112089      2.920709   15.032798   32.237030\n",
       "3        45   10.0   6.145248      1.591116   17.736365   32.566825\n",
       "4      4504   10.0   3.493645      0.455396   13.949041   32.825508\n",
       "...     ...    ...        ...           ...         ...         ...\n",
       "4541   2314  100.0  27.779895      5.280721  133.060616  359.038843\n",
       "4542   3338  100.0  32.735142      5.361312  138.096454  360.109683\n",
       "4543   2412  100.0  34.488205      9.187200  143.675404  360.400053\n",
       "4544   2823  100.0  32.148208      7.565100  139.713307  362.042123\n",
       "4545   1925  100.0  42.225232      8.977117  151.202349  364.079751\n",
       "\n",
       "[4546 rows x 6 columns]"
      ]
     },
     "execution_count": 208,
     "metadata": {},
     "output_type": "execute_result"
    }
   ],
   "source": [
    "DF_corr.reset_index()"
   ]
  },
  {
   "cell_type": "code",
   "execution_count": 209,
   "id": "ea90552d-1729-4e50-85d0-4520822ab209",
   "metadata": {},
   "outputs": [
    {
     "data": {
      "text/plain": [
       "<AxesSubplot:xlabel='TV', ylabel='Sales'>"
      ]
     },
     "execution_count": 209,
     "metadata": {},
     "output_type": "execute_result"
    },
    {
     "data": {
      "image/png": "[encoded data removed]",
      "text/plain": [
       "<Figure size 640x480 with 1 Axes>"
      ]
     },
     "metadata": {},
     "output_type": "display_data"
    }
   ],
   "source": [
    "DF_corr.plot('TV', 'Sales', kind = 'scatter')"
   ]
  },
  {
   "cell_type": "markdown",
   "id": "1b5d98b7-7c94-4dc8-b7a8-715c62861281",
   "metadata": {},
   "source": [
    "Видно сильную прямую кореляцию между бюджетом на TV и продажами."
   ]
  },
  {
   "cell_type": "code",
   "execution_count": 210,
   "id": "a20e3066-121d-418c-9522-e149fc5ed517",
   "metadata": {},
   "outputs": [
    {
     "data": {
      "text/plain": [
       "<AxesSubplot:xlabel='Radio', ylabel='Sales'>"
      ]
     },
     "execution_count": 210,
     "metadata": {},
     "output_type": "execute_result"
    },
    {
     "data": {
      "image/png": "[encoded data removed]",
      "text/plain": [
       "<Figure size 640x480 with 1 Axes>"
      ]
     },
     "metadata": {},
     "output_type": "display_data"
    }
   ],
   "source": [
    "DF_corr.plot('Radio', 'Sales', kind = 'scatter')"
   ]
  },
  {
   "cell_type": "markdown",
   "id": "513ca7bd-4cfd-4b70-a501-944a064b0b6d",
   "metadata": {},
   "source": [
    "Видно прямую кореляцию между бюджетом на радио и продажами."
   ]
  },
  {
   "cell_type": "code",
   "execution_count": 211,
   "id": "cedac2bd-344b-4b92-ab12-a8ca2002fab7",
   "metadata": {},
   "outputs": [
    {
     "data": {
      "text/plain": [
       "<AxesSubplot:xlabel='Social Media', ylabel='Sales'>"
      ]
     },
     "execution_count": 211,
     "metadata": {},
     "output_type": "execute_result"
    },
    {
     "data": {
      "image/png": "[encoded data removed]",
      "text/plain": [
       "<Figure size 640x480 with 1 Axes>"
      ]
     },
     "metadata": {},
     "output_type": "display_data"
    }
   ],
   "source": [
    "DF_corr.plot('Social Media', 'Sales', kind = 'scatter')"
   ]
  },
  {
   "cell_type": "markdown",
   "id": "8e1a67f3-2621-4e16-9cf8-fd57c1879230",
   "metadata": {},
   "source": [
    "Видно слабую прямую кореляцию между бюджетом на SMM и продажами."
   ]
  },
  {
   "cell_type": "code",
   "execution_count": 212,
   "id": "7bfac187-4089-4f9f-94e0-40c2541995af",
   "metadata": {},
   "outputs": [
    {
     "data": {
      "text/html": [
       "<div>\n",
       "<style scoped>\n",
       "    .dataframe tbody tr th:only-of-type {\n",
       "        vertical-align: middle;\n",
       "    }\n",
       "\n",
       "    .dataframe tbody tr th {\n",
       "        vertical-align: top;\n",
       "    }\n",
       "\n",
       "    .dataframe thead th {\n",
       "        text-align: right;\n",
       "    }\n",
       "</style>\n",
       "<table border=\"1\" class=\"dataframe\">\n",
       "  <thead>\n",
       "    <tr style=\"text-align: right;\">\n",
       "      <th></th>\n",
       "      <th>TV</th>\n",
       "      <th>Radio</th>\n",
       "      <th>Social Media</th>\n",
       "      <th>Sum_Budget</th>\n",
       "      <th>Sales</th>\n",
       "    </tr>\n",
       "  </thead>\n",
       "  <tbody>\n",
       "    <tr>\n",
       "      <th>TV</th>\n",
       "      <td>1.000000</td>\n",
       "      <td>0.869158</td>\n",
       "      <td>0.527687</td>\n",
       "      <td>0.987401</td>\n",
       "      <td>0.999497</td>\n",
       "    </tr>\n",
       "    <tr>\n",
       "      <th>Radio</th>\n",
       "      <td>0.869158</td>\n",
       "      <td>1.000000</td>\n",
       "      <td>0.606338</td>\n",
       "      <td>0.932667</td>\n",
       "      <td>0.868638</td>\n",
       "    </tr>\n",
       "    <tr>\n",
       "      <th>Social Media</th>\n",
       "      <td>0.527687</td>\n",
       "      <td>0.606338</td>\n",
       "      <td>1.000000</td>\n",
       "      <td>0.604712</td>\n",
       "      <td>0.527446</td>\n",
       "    </tr>\n",
       "    <tr>\n",
       "      <th>Sum_Budget</th>\n",
       "      <td>0.987401</td>\n",
       "      <td>0.932667</td>\n",
       "      <td>0.604712</td>\n",
       "      <td>1.000000</td>\n",
       "      <td>0.986884</td>\n",
       "    </tr>\n",
       "    <tr>\n",
       "      <th>Sales</th>\n",
       "      <td>0.999497</td>\n",
       "      <td>0.868638</td>\n",
       "      <td>0.527446</td>\n",
       "      <td>0.986884</td>\n",
       "      <td>1.000000</td>\n",
       "    </tr>\n",
       "  </tbody>\n",
       "</table>\n",
       "</div>"
      ],
      "text/plain": [
       "                    TV     Radio  Social Media  Sum_Budget     Sales\n",
       "TV            1.000000  0.869158      0.527687    0.987401  0.999497\n",
       "Radio         0.869158  1.000000      0.606338    0.932667  0.868638\n",
       "Social Media  0.527687  0.606338      1.000000    0.604712  0.527446\n",
       "Sum_Budget    0.987401  0.932667      0.604712    1.000000  0.986884\n",
       "Sales         0.999497  0.868638      0.527446    0.986884  1.000000"
      ]
     },
     "execution_count": 212,
     "metadata": {},
     "output_type": "execute_result"
    }
   ],
   "source": [
    "DF_corr.corr()"
   ]
  },
  {
   "cell_type": "markdown",
   "id": "c65a2e48-6011-4266-8c23-be45ada46e44",
   "metadata": {},
   "source": [
    "Сильная прямая корреляция с количеством продаж наблюдается у бюджета на ТВ. Среднюю прямую корреляцию видно между количеством продаж и бюджетом на радио. Слабую прямую корреляцию видно между количеством продаж и бюджетом на SMM.  "
   ]
  },
  {
   "cell_type": "markdown",
   "id": "0df84934-80e0-45ac-8868-beb1a723bc39",
   "metadata": {},
   "source": [
    "## 5. Линейная регрессия\n",
    "Создадим модель линейной регрессии между суммарным бюджетом и количеством продаж."
   ]
  },
  {
   "cell_type": "code",
   "execution_count": 213,
   "id": "833ab918-21d8-4a87-8dac-c4226878cbef",
   "metadata": {},
   "outputs": [],
   "source": [
    "from sklearn.linear_model import LinearRegression"
   ]
  },
  {
   "cell_type": "code",
   "execution_count": 214,
   "id": "9817e85f-3a1c-4621-930e-10dc04237963",
   "metadata": {},
   "outputs": [
    {
     "data": {
      "text/html": [
       "<div>\n",
       "<style scoped>\n",
       "    .dataframe tbody tr th:only-of-type {\n",
       "        vertical-align: middle;\n",
       "    }\n",
       "\n",
       "    .dataframe tbody tr th {\n",
       "        vertical-align: top;\n",
       "    }\n",
       "\n",
       "    .dataframe thead th {\n",
       "        text-align: right;\n",
       "    }\n",
       "</style>\n",
       "<table border=\"1\" class=\"dataframe\">\n",
       "  <thead>\n",
       "    <tr style=\"text-align: right;\">\n",
       "      <th></th>\n",
       "      <th>Sum_Budget</th>\n",
       "      <th>Sales</th>\n",
       "    </tr>\n",
       "  </thead>\n",
       "  <tbody>\n",
       "    <tr>\n",
       "      <th>2287</th>\n",
       "      <td>16.292624</td>\n",
       "      <td>31.199409</td>\n",
       "    </tr>\n",
       "    <tr>\n",
       "      <th>1104</th>\n",
       "      <td>13.684405</td>\n",
       "      <td>31.402262</td>\n",
       "    </tr>\n",
       "    <tr>\n",
       "      <th>642</th>\n",
       "      <td>15.032798</td>\n",
       "      <td>32.237030</td>\n",
       "    </tr>\n",
       "    <tr>\n",
       "      <th>45</th>\n",
       "      <td>17.736365</td>\n",
       "      <td>32.566825</td>\n",
       "    </tr>\n",
       "    <tr>\n",
       "      <th>4504</th>\n",
       "      <td>13.949041</td>\n",
       "      <td>32.825508</td>\n",
       "    </tr>\n",
       "    <tr>\n",
       "      <th>...</th>\n",
       "      <td>...</td>\n",
       "      <td>...</td>\n",
       "    </tr>\n",
       "    <tr>\n",
       "      <th>2314</th>\n",
       "      <td>133.060616</td>\n",
       "      <td>359.038843</td>\n",
       "    </tr>\n",
       "    <tr>\n",
       "      <th>3338</th>\n",
       "      <td>138.096454</td>\n",
       "      <td>360.109683</td>\n",
       "    </tr>\n",
       "    <tr>\n",
       "      <th>2412</th>\n",
       "      <td>143.675404</td>\n",
       "      <td>360.400053</td>\n",
       "    </tr>\n",
       "    <tr>\n",
       "      <th>2823</th>\n",
       "      <td>139.713307</td>\n",
       "      <td>362.042123</td>\n",
       "    </tr>\n",
       "    <tr>\n",
       "      <th>1925</th>\n",
       "      <td>151.202349</td>\n",
       "      <td>364.079751</td>\n",
       "    </tr>\n",
       "  </tbody>\n",
       "</table>\n",
       "<p>4546 rows × 2 columns</p>\n",
       "</div>"
      ],
      "text/plain": [
       "      Sum_Budget       Sales\n",
       "2287   16.292624   31.199409\n",
       "1104   13.684405   31.402262\n",
       "642    15.032798   32.237030\n",
       "45     17.736365   32.566825\n",
       "4504   13.949041   32.825508\n",
       "...          ...         ...\n",
       "2314  133.060616  359.038843\n",
       "3338  138.096454  360.109683\n",
       "2412  143.675404  360.400053\n",
       "2823  139.713307  362.042123\n",
       "1925  151.202349  364.079751\n",
       "\n",
       "[4546 rows x 2 columns]"
      ]
     },
     "execution_count": 214,
     "metadata": {},
     "output_type": "execute_result"
    }
   ],
   "source": [
    "# Создадим датафрейм для регрессии\n",
    "\n",
    "DF_reg = DF[['Sum_Budget', 'Sales']]\n",
    "DF_reg"
   ]
  },
  {
   "cell_type": "code",
   "execution_count": 215,
   "id": "383eeabc-c814-4633-9a63-807c69f3bb99",
   "metadata": {},
   "outputs": [],
   "source": [
    "# Создаем модель и тестируем её\n",
    "\n",
    "X = DF_reg.iloc[:, 0].values.reshape(-1, 1)\n",
    "Y = DF_reg.iloc[:, 1].values.reshape(-1, 1)\n",
    "\n",
    "linear_regressor = LinearRegression()\n",
    "linear_regressor.fit(X, Y)\n",
    "\n",
    "Y_pred = linear_regressor.predict(X)"
   ]
  },
  {
   "cell_type": "code",
   "execution_count": 216,
   "id": "2a6b675d-f6e1-4da0-9f44-28065d53825c",
   "metadata": {},
   "outputs": [
    {
     "data": {
      "image/png": "[encoded data removed]",
      "text/plain": [
       "<pyolite.display.Image at 0x5f7b3b8>"
      ]
     },
     "metadata": {},
     "output_type": "display_data"
    },
    {
     "data": {
      "text/plain": [
       "<Figure size 640x480 with 0 Axes>"
      ]
     },
     "metadata": {},
     "output_type": "display_data"
    }
   ],
   "source": [
    "plt.scatter(X, Y)\n",
    "plt.plot(X, Y_pred, color='red')\n",
    "plt.show()"
   ]
  }
 ],
 "metadata": {
  "kernelspec": {
   "display_name": "Python 3 (ipykernel)",
   "language": "python",
   "name": "python3"
  },
  "language_info": {
   "codemirror_mode": {
    "name": "ipython",
    "version": 3
   },
   "file_extension": ".py",
   "mimetype": "text/x-python",
   "name": "python",
   "nbconvert_exporter": "python",
   "pygments_lexer": "ipython3",
   "version": "3.9.12"
  }
 },
 "nbformat": 4,
 "nbformat_minor": 5
}
